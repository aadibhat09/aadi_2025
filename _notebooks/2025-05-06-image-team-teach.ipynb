{
 "cells": [
  {
   "cell_type": "raw",
   "id": "4c2c15fb",
   "metadata": {
    "vscode": {
     "languageId": "raw"
    }
   },
   "source": [
    "---\n",
    "layout: post\n",
    "title: Images Blog\n",
    "description: A blog for the Images team\n",
    "permalink: /posts/images-team-teach/\n",
    "comments: true\n",
    "---"
   ]
  },
  {
   "cell_type": "markdown",
   "id": "307052c5",
   "metadata": {},
   "source": [
    "## Popcorn Hack 1\n",
    "\n",
    "For an image with a transparent background that needs to stay sharp on any screen, the best file format would be PNG. It supports transparency and is lossless, which ensures that the image maintains high quality and sharpness even when displayed on different screen resolutions.\n",
    "\n",
    "## Popcorn Hack 2\n",
    "\n",
    "One downside of Base64 in the real world is that it increases the size of the data. The encoded data is about 33% larger than the original binary data. This can be inefficient when working with large files, as it requires more storage space and bandwidth.\n",
    "\n",
    "## Homework Hack\n",
    "\n",
    "### What is a hex color code?\n",
    "\n",
    "A hex color code is a 6-digit code (like #FF0000) that tells computers how much red, green, and blue to show.\n",
    "Examples:\n",
    "\n",
    "#FF0000 = Red\n",
    "\n",
    "#0000FF = Blue\n",
    "\n",
    "My use: I used hex codes in my CSS to change the colors of some of the components in my website.\n",
    "\n",
    "### What is Base64 and how is it used with images?\n",
    "\n",
    "Base64 converts binary data (like images) into a text format. It’s used to embed images directly into HTML/CSS.\n",
    "\n",
    "My use: I have used Base64 small icons to reduce file management and speed up loading in my website.\n",
    "\n",
    "### Why use Base64 over regular image files?\n",
    "\n",
    "Base64 reduces file requests, makes it easier to manage in code, and is good for small images.\n",
    "\n",
    "My use: We store images as base64 in user.py for Mort's backend.\n",
    "\n",
    "### Insert and explain an image in Jupyter Notebook:\n",
    "\n",
    "\n",
    "<img src=\"../../images/mario.jpeg\">\n",
    "\n",
    "The image is stored as binary on disk and shown in the notebook using HTML rendering."
   ]
  }
 ],
 "metadata": {
  "language_info": {
   "name": "python"
  }
 },
 "nbformat": 4,
 "nbformat_minor": 5
}
