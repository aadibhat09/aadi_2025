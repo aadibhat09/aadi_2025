{
 "cells": [
  {
   "cell_type": "raw",
   "metadata": {
    "vscode": {
     "languageId": "raw"
    }
   },
   "source": [
    "---\n",
    "layout: post\n",
    "title: Crowdsourcing Blog\n",
    "description: A blog for the Crowdsourcing team\n",
    "permalink: /posts/crowdsourcing/\n",
    "comments: true\n",
    "---"
   ]
  },
  {
   "cell_type": "markdown",
   "metadata": {},
   "source": [
    "### Rating the mango: 9/10\n",
    "\n",
    "<br>\n",
    "\n",
    "## Popcorn Hack 3\n",
    "\n",
    "Kickstarter uses crowdsourcing to allow for creators to show their ideas and products around the world. This allows them to gain the necessary financial support to start their company. Backers assist projects raise money without the help of traditional investors by providing financial contributions in exchange for benefits or early access. This concept uses group support to make tech, business, and creative ideas a reality.\n",
    "\n",
    "<br>\n",
    "\n",
    "## Homework Hack\n",
    "\n",
    "<iframe style=\"border-radius:12px\" src=\"https://open.spotify.com/embed/track/7rVmzyFA7f4rNGl9onF21E?utm_source=generator&theme=0\" width=\"100%\" height=\"352\" frameBorder=\"0\" allowfullscreen=\"\" allow=\"autoplay; clipboard-write; encrypted-media; fullscreen; picture-in-picture\" loading=\"lazy\"></iframe>\n",
    "\n",
    "<iframe style=\"border-radius:12px\" src=\"https://open.spotify.com/embed/track/2CSRrnOEELmhpq8iaAi9cd?utm_source=generator&theme=0\" width=\"100%\" height=\"352\" frameBorder=\"0\" allowfullscreen=\"\" allow=\"autoplay; clipboard-write; encrypted-media; fullscreen; picture-in-picture\" loading=\"lazy\"></iframe>\n",
    "\n",
    "\n",
    "\n",
    "\n",
    "\n",
    "\n",
    "\n",
    "\n",
    "\n"
   ]
  }
 ],
 "metadata": {
  "language_info": {
   "name": "python"
  }
 },
 "nbformat": 4,
 "nbformat_minor": 2
}
