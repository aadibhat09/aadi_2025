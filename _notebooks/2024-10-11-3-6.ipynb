{
 "cells": [
  {
   "cell_type": "raw",
   "metadata": {},
   "source": [
    "---\n",
    "layout: post\n",
    "title: 3.6 Hacks and Homework\n",
    "description: Completing the hacks and homework for lesson 3.6\n",
    "permalink: /posts/units/3/6\n",
    "comments: true\n",
    "---"
   ]
  },
  {
   "cell_type": "markdown",
   "metadata": {},
   "source": [
    "<br>\n",
    "\n",
    "# 3.6\n",
    "\n",
    "<br>\n",
    "\n",
    "## Hack 1\n",
    "\n",
    "<br>\n",
    "\n",
    "Create a simple conditional statement.\n",
    "\n",
    "<br>"
   ]
  },
  {
   "cell_type": "code",
   "execution_count": 1,
   "metadata": {},
   "outputs": [
    {
     "name": "stdout",
     "output_type": "stream",
     "text": [
      "Go play outside!\n"
     ]
    }
   ],
   "source": [
    "# Declaring two boolean values\n",
    "is_raining = False\n",
    "is_bored = True\n",
    "\n",
    "# Compares one value to the opposite of the other value\n",
    "if is_bored and not is_raining:\n",
    "    print(\"Go play outside!\")\n",
    "else:\n",
    "    print(\"idk what to tell you man\")"
   ]
  },
  {
   "cell_type": "markdown",
   "metadata": {},
   "source": [
    "<br>\n",
    "\n",
    "## Hack 2\n",
    "\n",
    "<br>\n",
    "\n",
    "Create a piece of code that compares two statements and checks if they are equal to each other.\n",
    "\n",
    "<br>"
   ]
  },
  {
   "cell_type": "code",
   "execution_count": 2,
   "metadata": {},
   "outputs": [
    {
     "name": "stdout",
     "output_type": "stream",
     "text": [
      "Wow the friends' names have the same amount of letters!\n"
     ]
    }
   ],
   "source": [
    "# Declaring two string values\n",
    "friend_one = \"Billy\"\n",
    "friend_two = \"Bobby\"\n",
    "\n",
    "# Declaring two integer values\n",
    "friend_one_length = len(friend_one)\n",
    "friend_two_length = len(friend_two)\n",
    "\n",
    "# Compares the values with each other\n",
    "if friend_one == friend_two:\n",
    "    print(\"Wow the friends have the same name!\")\n",
    "elif friend_one_length == friend_two_length:\n",
    "    print(\"Wow the friends' names have the same amount of letters!\")\n",
    "else:\n",
    "    print(\"The friends have completely different names.\")"
   ]
  },
  {
   "cell_type": "markdown",
   "metadata": {},
   "source": [
    "<br>\n",
    "\n",
    "## Hack 3\n",
    "\n",
    "<br>\n",
    "\n",
    "Create a simple program that classifies an individual as a “Child,” “Teenager,” or “Adult” based on their age input.\n",
    "\n",
    "<br>"
   ]
  },
  {
   "cell_type": "code",
   "execution_count": 3,
   "metadata": {},
   "outputs": [
    {
     "name": "stdout",
     "output_type": "stream",
     "text": [
      "You are a child\n"
     ]
    }
   ],
   "source": [
    "age = int(input())\n",
    "\n",
    "if age < 13:\n",
    "    print(\"You are a child\")\n",
    "elif age < 18:\n",
    "    print(\"You are a teenager\")\n",
    "else:\n",
    "    print(\"You are an adult\")"
   ]
  },
  {
   "cell_type": "markdown",
   "metadata": {},
   "source": [
    "<br>\n",
    "\n",
    "## Hack 4\n",
    "\n",
    "<br>\n",
    "\n",
    "Create a counter function that takes input.\n",
    "\n",
    "<br>"
   ]
  },
  {
   "cell_type": "code",
   "execution_count": 4,
   "metadata": {},
   "outputs": [
    {
     "name": "stdout",
     "output_type": "stream",
     "text": [
      "Come on man...\n"
     ]
    }
   ],
   "source": [
    "# Defining a function that takes an integer parameter, `n`\n",
    "def counter(n):\n",
    "\n",
    "    # Loop `n` times\n",
    "    for i in range(n):\n",
    "\n",
    "        # Take input\n",
    "        inp = input(\"Type the number \" + str(i))\n",
    "\n",
    "        # Continue if the number is correct, break if it isn't\n",
    "        if int(inp) == i:\n",
    "            continue\n",
    "        else:\n",
    "            print(\"Come on man...\")\n",
    "            break\n",
    "\n",
    "# Call the function with value of user's input\n",
    "counter(int(input(\"Enter any number! \")))"
   ]
  }
 ],
 "metadata": {
  "kernelspec": {
   "display_name": "Python 3",
   "language": "python",
   "name": "python3"
  },
  "language_info": {
   "codemirror_mode": {
    "name": "ipython",
    "version": 3
   },
   "file_extension": ".py",
   "mimetype": "text/x-python",
   "name": "python",
   "nbconvert_exporter": "python",
   "pygments_lexer": "ipython3",
   "version": "3.12.3"
  }
 },
 "nbformat": 4,
 "nbformat_minor": 2
}
