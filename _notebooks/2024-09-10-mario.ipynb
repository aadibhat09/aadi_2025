{
 "cells": [
  {
   "cell_type": "markdown",
   "metadata": {},
   "source": [
    "---\n",
    "layout: post\n",
    "title: Mario\n",
    "description: A random post about Mario!\n",
    "permalink: /posts/mario\n",
    "comments: true\n",
    "---"
   ]
  },
  {
   "cell_type": "markdown",
   "metadata": {},
   "source": [
    "<br>\n",
    "\n",
    "Mario is a video game character created by Nintendo. He is an iconic mascot of the company and one of the most recognizable characters in gaming history! Mario is often portrayed as an Italian plumber who lives in the Mushroom Kingdom, a fantasy world filled with colorful characters and creatures, such as Toads, Goombas, and Koopas.\n",
    "\n",
    "<img src=\"../images/mario/1.png\">\n",
    "\n",
    "The main goal in most Mario games is to rescue Princess Peach, who’s frequently kidnapped by Bowser (L bozo), a giant turtle-dinosaur-dog hybrid thing. Mario has to travel through different levels, overcoming obstacles, jumping on enemies, and collecting items like coins and power-ups (such as mushrooms that make him grow or give him special abilities) to reach his goal.\n",
    "\n",
    "<img src=\"../images/mario/2.png\">\n",
    "\n",
    "The games are famous for their fun gameplay, creative worlds, and the challenge of timing jumps and movements just right. Mario has appeared in many different kinds of games, from platformers (like \"Super Mario Bros.\") to racing games (like \"Mario Kart\") and sports games (like \"Mario Tennis\").\n",
    "\n",
    "<img src=\"../images/mario/3.png\">\n",
    "\n",
    "I am a huge fan of Super Mario. My favorite game is the 2009 New Super Mario Bros. Wii. In my free time, I like to play the game with my younger brother. I have completed the entire game several times!\n",
    "\n",
    "<img src=\"../images/mario/4.png\">\n",
    "\n",
    "<style>\n",
    "    img {\n",
    "        width:300px;\n",
    "        height: auto;\n",
    "        transition: transform .2s;\n",
    "    }\n",
    "    img:hover {\n",
    "        transform: scale(1.05);\n",
    "    }\n",
    "</style>"
   ]
  }
 ],
 "metadata": {
  "language_info": {
   "name": "python"
  }
 },
 "nbformat": 4,
 "nbformat_minor": 2
}
