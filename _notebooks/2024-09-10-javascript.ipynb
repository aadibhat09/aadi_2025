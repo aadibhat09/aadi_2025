{
 "cells": [
  {
   "cell_type": "raw",
   "metadata": {
    "vscode": {
     "languageId": "javascript"
    }
   },
   "source": [
    "---\n",
    "layout: post\n",
    "title: JavaScript \n",
    "description: Let's learn some basic JavaScript functions!\n",
    "permalink: /posts/javascript-functions\n",
    "comments: true\n",
    "---"
   ]
  },
  {
   "cell_type": "markdown",
   "metadata": {},
   "source": [
    "<br>\n",
    "\n",
    "### Custom Objects\n",
    "\n",
    "Here, we can create an object called `person`. This object has keys of `name`, `age`, `currentClasses`, `interests`, `favoriteAnimal`, and `favoriteColor`. Some of these kays have values that are strings, some are integers, and some are arrays.\n",
    "\n",
    "We can output values to the JS console with `console.log(output)`. We can also edit some of the values with `person[key]`."
   ]
  },
  {
   "cell_type": "code",
   "execution_count": 10,
   "metadata": {
    "vscode": {
     "languageId": "javascript"
    }
   },
   "outputs": [
    {
     "data": {
      "application/javascript": "const person = {\n    name: \"Aadi Bhat\",\n    age: 15,\n    currentClasses:\n      [\"HPoE\",\n      \"World History\",\n      \"AP Chem\",\n      \"AP Calc AB\",\n      \"AP CSP\",\n      \"AP English Seminar\"],\n    interests:\n      [\"Robotics\",\n      \"Cybersecurity\",\n      \"Piano\"],\n    favoriteAnimal: \"Monkey\",\n    favoriteColor: \"Red\"\n};\n\nconsole.log(person);\nperson[\"favoriteAnimal\"] = \"Armadillo\";\nperson[\"favoriteColor\"] = \"Orange\";\nconsole.log(person);\nperson[\"age\"] += 100;\nconsole.log(\"Your age in 100 years is \" + person[\"age\"]);\nconsole.log(\"The type of the value age is \" + typeof person[\"age\"]);\nconsole.log(\"The type of the value interests is \" + typeof person[\"interests\"]);\nconsole.log(\"The type of the value favoriteColor is \" + typeof person[\"favoriteColor\"]);\n",
      "text/plain": [
       "<IPython.core.display.Javascript object>"
      ]
     },
     "metadata": {},
     "output_type": "display_data"
    }
   ],
   "source": [
    "%%javascript\n",
    "const person = {\n",
    "    name: \"Aadi Bhat\",\n",
    "    age: 15,\n",
    "    currentClasses:\n",
    "      [\"HPoE\",\n",
    "      \"World History\",\n",
    "      \"AP Chem\",\n",
    "      \"AP Calc AB\",\n",
    "      \"AP CSP\",\n",
    "      \"AP English Seminar\"],\n",
    "    interests:\n",
    "      [\"Robotics\",\n",
    "      \"Cybersecurity\",\n",
    "      \"Piano\"],\n",
    "    favoriteAnimal: \"Monkey\",\n",
    "    favoriteColor: \"Red\"\n",
    "};\n",
    "\n",
    "console.log(person);\n",
    "person[\"favoriteAnimal\"] = \"Armadillo\";\n",
    "person[\"favoriteColor\"] = \"Orange\";\n",
    "console.log(person);\n",
    "person[\"age\"] += 100;\n",
    "console.log(\"Your age in 100 years is \" + person[\"age\"]);\n",
    "console.log(\"The type of the value age is \" + typeof person[\"age\"]);\n",
    "console.log(\"The type of the value interests is \" + typeof person[\"interests\"]);\n",
    "console.log(\"The type of the value favoriteColor is \" + typeof person[\"favoriteColor\"]);"
   ]
  },
  {
   "cell_type": "markdown",
   "metadata": {},
   "source": [
    "\n",
    "```\n",
    "{\"name\":\"Aadi Bhat\",\"age\":15,\"currentClasses\":[\"HPoE\",\"World History\",\"AP Chem\",\"AP Calc AB\",\"AP CSP\",\"AP English Seminar\"],\"interests\":[\"Robotics\",\"Cybersecurity\",\"Piano\"],\"favoriteAnimal\":\"Monkey\",\"favoriteColor\":\"Red\"}\n",
    "{\"name\":\"Aadi Bhat\",\"age\":15,\"currentClasses\":[\"HPoE\",\"World History\",\"AP Chem\",\"AP Calc AB\",\"AP CSP\",\"AP English Seminar\"],\"interests\":[\"Robotics\",\"Cybersecurity\",\"Piano\"],\"favoriteAnimal\":\"Armadillo\",\"favoriteColor\":\"Orange\"}\n",
    "Your age in 100 years is 115\n",
    "The type of the value age is number\n",
    "The type of the value interests is object\n",
    "The type of the value favoriteColor is string\n",
    "```"
   ]
  },
  {
   "cell_type": "markdown",
   "metadata": {},
   "source": [
    "<br>\n",
    "\n",
    "### Operations\n",
    "\n",
    "Here, we use basic mathematical operations to compare two values, `a` and `b`. We use conditionals to be able to compare them.\n",
    "\n",
    "The values `x` and `y` also go through several mathematical operations and the results are outputted."
   ]
  },
  {
   "cell_type": "code",
   "execution_count": 9,
   "metadata": {
    "vscode": {
     "languageId": "javascript"
    }
   },
   "outputs": [
    {
     "data": {
      "application/javascript": "var a = 1;\nvar b = 2;\nif (a < b) {\n  console.log(\"a is less than b\");\n} else if (a > b) {\n  console.log(\"a is greater than b\");\n} else {\n  console.log(\"a and b are equal\");\n}\n\nvar x = 10;\nvar y = 5;\nvar text = \"bob\";\nvar cell = Jupyter.notebook.get_selected_cell();\ncell.set_text(bob);\nJupyter.notebook.execute_cell();\nconsole.log(\"x plus y = \" + x + y);\nconsole.log(\"x minus y = \" + x - y);\nconsole.log(\"x times y = \" + x*y);\nconsole.log(\"x divided by y = \" + x/y);\nconsole.log(\"x to the power of y = \" + x**y);\nconsole.log(\"x modulo y = \" + x%y);\n",
      "text/plain": [
       "<IPython.core.display.Javascript object>"
      ]
     },
     "metadata": {},
     "output_type": "display_data"
    }
   ],
   "source": [
    "%%javascript\n",
    "var a = 1;\n",
    "var b = 2;\n",
    "if (a < b) {\n",
    "  console.log(\"a is less than b\");\n",
    "} else if (a > b) {\n",
    "  console.log(\"a is greater than b\");\n",
    "} else {\n",
    "  console.log(\"a and b are equal\");\n",
    "}\n",
    "\n",
    "var x = 10;\n",
    "var y = 5;\n",
    "console.log(\"x plus y = \" + (x+y));\n",
    "console.log(\"x minus y = \" + (x-y));\n",
    "console.log(\"x times y = \" + x*y);\n",
    "console.log(\"x divided by y = \" + x/y);\n",
    "console.log(\"x to the power of y = \" + x**y);\n",
    "console.log(\"x modulo y = \" + x%y);\n"
   ]
  },
  {
   "cell_type": "markdown",
   "metadata": {},
   "source": [
    "```\n",
    "\n",
    "a is less than b\n",
    "x plus y = 15\n",
    "x minus y = 5\n",
    "x times y = 50\n",
    "x divided by y = 2\n",
    "x to the power of y = 100000\n",
    "x modulo y = 0\n",
    "```"
   ]
  }
 ],
 "metadata": {
  "kernelspec": {
   "display_name": "Python 3 (ipykernel)",
   "language": "python",
   "name": "python3"
  },
  "language_info": {
   "codemirror_mode": {
    "name": "ipython",
    "version": 3
   },
   "file_extension": ".py",
   "mimetype": "text/x-python",
   "name": "python",
   "nbconvert_exporter": "python",
   "pygments_lexer": "ipython3",
   "version": "3.12.3"
  }
 },
 "nbformat": 4,
 "nbformat_minor": 2
}
