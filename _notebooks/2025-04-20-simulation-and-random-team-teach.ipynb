{
 "cells": [
  {
   "cell_type": "raw",
   "id": "4a6e6447",
   "metadata": {
    "vscode": {
     "languageId": "raw"
    }
   },
   "source": [
    "---\n",
    "layout: post\n",
    "title: Simulation Games and Random Algorithms Blog\n",
    "description: A blog for the Simulation Games and Random Algorithms team\n",
    "permalink: /posts/simulation-games-and-random-algorithms/\n",
    "comments: true\n",
    "---"
   ]
  },
  {
   "cell_type": "markdown",
   "id": "8a2c48c0",
   "metadata": {},
   "source": [
    "<br>\n",
    "\n",
    "# Random Algorithms\n",
    "<br>\n",
    "\n",
    "## Popcorn Hack 1: Brainstorm\n",
    "\n",
    "I think a random algorithm is a way for a computer to be able to generate a random value using data from user input. We would need random algorithms for real-life coding situations for many reasons. An example would be how Minecraft worlds are randomly generated from a seed, or to main a coin flipper or card shuffler. I think CollegeBoard will ask me how a random algorithm can be implemented into someone's code, or what the result of the algorithm could be.\n",
    "\n",
    "<br>\n",
    "\n",
    "## Popcorn Hack 2"
   ]
  },
  {
   "cell_type": "code",
   "execution_count": 4,
   "id": "66946912",
   "metadata": {},
   "outputs": [
    {
     "name": "stdout",
     "output_type": "stream",
     "text": [
      "Today’s random activity: Doomscroll reels\n"
     ]
    }
   ],
   "source": [
    "# Popcorn Hack Number 2 (Random): Make a random algorithm to choose a daily activity:\n",
    "import random\n",
    "# Step 1: Define a list of activities\n",
    "activities = ['Cook pasta', 'Doomscroll reels', 'Do homework', 'Walk dog', 'Go to gym', 'Eat a full pineapple']\n",
    "# Step 2: Randomly choose an activity\n",
    "random_activity = random.choice(activities)\n",
    "# Step 3: Display the chosen activity\n",
    "print(f\"Today’s random activity: {random_activity}\")"
   ]
  },
  {
   "cell_type": "markdown",
   "id": "65dc5de0",
   "metadata": {},
   "source": [
    "<br>\n",
    "\n",
    "## Popcorn Hack 3"
   ]
  },
  {
   "cell_type": "code",
   "execution_count": 8,
   "id": "bcdc6f79",
   "metadata": {},
   "outputs": [
    {
     "name": "stdout",
     "output_type": "stream",
     "text": [
      "Aadi will be monitoring watch tv!\n",
      "Aditya will be monitoring scroll reels!\n",
      "Ansh will be monitoring play a game!\n",
      "Derek will be monitoring sing!\n",
      "Gyutae will be monitoring eat cake!\n",
      "Rayhaan will be monitoring go to pool!\n"
     ]
    }
   ],
   "source": [
    "# Popcorn Hack Number 3: Using a loops in random\n",
    "# This popcorn hack assigns an activity to each person\n",
    "import random\n",
    "hosts = ['Aadi', 'Aditya', 'Ansh', 'Derek', 'Gyutae', 'Rayhaan']\n",
    "activities = ['watch tv', 'eat cake', 'play a game', 'go to pool', 'sing', 'scroll reels']\n",
    "# Randomly shuffle the list of activities to assign them randomly to the guests\n",
    "random.shuffle(activities)\n",
    "# Loop through each guest and assign them a random activity\n",
    "for i in range(len(hosts)):\n",
    "    print(f\"{hosts[i]} will be monitoring {activities[i]}!\")"
   ]
  },
  {
   "cell_type": "markdown",
   "id": "aa958238",
   "metadata": {},
   "source": [
    "<br>\n",
    "<hr>\n",
    "\n",
    "# Simulation Games\n",
    "\n",
    "<br>\n",
    "\n",
    "## Popcorn Hack 1\n",
    "\n"
   ]
  },
  {
   "cell_type": "code",
   "execution_count": 9,
   "id": "9ddae12e",
   "metadata": {},
   "outputs": [
    {
     "name": "stdout",
     "output_type": "stream",
     "text": [
      "Number: 445970208443364150\n"
     ]
    }
   ],
   "source": [
    "import random\n",
    "\n",
    "def spinner():\n",
    "    return random.randint(1, 1000000000000000000)\n",
    "\n",
    "number = spinner()\n",
    "print(\"Number:\", number)"
   ]
  },
  {
   "cell_type": "markdown",
   "id": "697d6bae",
   "metadata": {},
   "source": [
    "<br>\n",
    "\n",
    "## Popcorn Hack 2"
   ]
  },
  {
   "cell_type": "code",
   "execution_count": 10,
   "id": "923cb329",
   "metadata": {},
   "outputs": [
    {
     "name": "stdout",
     "output_type": "stream",
     "text": [
      "Computer chose: scissors\n",
      "You chose: rock\n",
      "You win!\n"
     ]
    }
   ],
   "source": [
    "import random\n",
    "\n",
    "def play_rock_paper_scissors():\n",
    "    choices = ['rock', 'paper', 'scissors']\n",
    "    computer_choice = random.choice(choices)\n",
    "    user_choice = input(\"Enter your choice (rock, paper, or scissors): \")\n",
    "\n",
    "    if user_choice not in choices:\n",
    "        print(\"Invalid choice. Please try again.\")\n",
    "        return\n",
    "\n",
    "    print(\"Computer chose:\", computer_choice)\n",
    "    print(\"You chose:\", user_choice)\n",
    "\n",
    "    if user_choice == computer_choice:\n",
    "        print(\"It's a tie!\")\n",
    "    elif (user_choice == 'rock' and computer_choice == 'scissors') or (user_choice == 'paper' and computer_choice == 'rock') or (user_choice == 'scissors' and computer_choice == 'paper'):\n",
    "        print(\"You win!\")\n",
    "    else:\n",
    "        print(\"You lose!\")\n",
    "\n",
    "play_rock_paper_scissors()"
   ]
  },
  {
   "cell_type": "markdown",
   "id": "525b7236",
   "metadata": {},
   "source": [
    "<br>\n",
    "<hr>\n",
    "\n",
    "# Homework Hacks\n",
    "\n",
    "<br>\n",
    "\n",
    "## Homework Hack 1"
   ]
  },
  {
   "cell_type": "code",
   "execution_count": 11,
   "id": "a4cddd1d",
   "metadata": {},
   "outputs": [
    {
     "name": "stdout",
     "output_type": "stream",
     "text": [
      "Team Super duper DUPER man: Jem, Mr. Griddy, Bowl, Sir Minion Man\n",
      "Team Super duper DUPER man: Jam, Jum, Jom, Risha Guha\n",
      "Team Super duper DUPER man: Jim, Cool Boy, Iphone, Plate, Monkeykindman, Black FOrest COokie, Sir Bronze\n"
     ]
    }
   ],
   "source": [
    "import random\n",
    "\n",
    "students = ['Jim', 'Jam', 'Jem', 'Jum', 'Jom', 'Cool Boy', 'Mr. Griddy', 'Iphone', 'Bowl', 'Risha Guha', 'Plate', 'Monkeykindman', 'Black FOrest COokie', 'Sir Minion Man', 'Sir Bronze']\n",
    "teams = ['Team super man', 'Team not so super man', 'Team Super duper DUPER man']\n",
    "\n",
    "assignments = {team: [] for team in teams}\n",
    "for student in students:\n",
    "    team = random.choice(teams)\n",
    "    assignments[team].append(student)\n",
    "\n",
    "for _, j in assignments.items():\n",
    "    print(team + \": \" + \", \".join(j))"
   ]
  },
  {
   "cell_type": "markdown",
   "id": "40d54bb3",
   "metadata": {},
   "source": [
    "<br>\n",
    "\n",
    "## Homework Hack 2"
   ]
  },
  {
   "cell_type": "code",
   "execution_count": 12,
   "id": "d345af93",
   "metadata": {},
   "outputs": [
    {
     "name": "stdout",
     "output_type": "stream",
     "text": [
      "It is going to be cloudy on monday\n",
      "It is going to be cloudy on tuesday\n",
      "It is going to be rainy on wednesday\n",
      "It is going to be rainy on thursday\n",
      "It is going to be cloudy on friday\n",
      "It is going to be sunny on saturday\n",
      "It is going to be sunny on sunday\n"
     ]
    }
   ],
   "source": [
    "import random\n",
    "\n",
    "forecasts = ['sunny', 'cloudy', 'rainy']\n",
    "days = ['monday', 'tuesday', 'wednesday', 'thursday', 'friday', 'saturday', 'sunday']\n",
    "\n",
    "for i in days:\n",
    "    print(\"It is going to be \" + random.choice(forecasts) + \" on \" + i)"
   ]
  },
  {
   "cell_type": "markdown",
   "id": "66d2999a",
   "metadata": {},
   "source": [
    "<br>\n",
    "\n",
    "## Homework Hack 3"
   ]
  },
  {
   "cell_type": "code",
   "execution_count": 15,
   "id": "8807f827",
   "metadata": {},
   "outputs": [
    {
     "name": "stdout",
     "output_type": "stream",
     "text": [
      "Customer number 1 takes 1 minutes to get coffee\n",
      "Customer number 2 takes 2 minutes to get coffee\n",
      "Customer number 3 takes 1 minutes to get coffee\n",
      "Customer number 4 takes 4 minutes to get coffee\n",
      "Customer number 5 takes 1 minutes to get coffee\n",
      "Total time: 9 minutes\n"
     ]
    }
   ],
   "source": [
    "import random\n",
    "\n",
    "customers = 5\n",
    "\n",
    "time = [random.randint(1, 5) for _ in range(customers)]\n",
    "\n",
    "total_time = sum(time)\n",
    "\n",
    "for i, j in enumerate(time, 1):\n",
    "    print(\"Customer number \" + str(i) + \" takes \" + str(j) + \" minutes to get coffee\")\n",
    "\n",
    "print(\"Total time: \" + str(total_time) + \" minutes\")\n"
   ]
  }
 ],
 "metadata": {
  "kernelspec": {
   "display_name": "venv",
   "language": "python",
   "name": "python3"
  },
  "language_info": {
   "codemirror_mode": {
    "name": "ipython",
    "version": 3
   },
   "file_extension": ".py",
   "mimetype": "text/x-python",
   "name": "python",
   "nbconvert_exporter": "python",
   "pygments_lexer": "ipython3",
   "version": "3.12.3"
  }
 },
 "nbformat": 4,
 "nbformat_minor": 5
}
