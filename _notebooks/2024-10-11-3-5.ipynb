{
 "cells": [
  {
   "cell_type": "markdown",
   "metadata": {},
   "source": [
    "---\n",
    "layout: post\n",
    "title: 3.5 Hacks and Homework\n",
    "description: Completing the hacks and homework for lesson 3.5\n",
    "permalink: /posts/units/3/5\n",
    "comments: true\n",
    "---"
   ]
  },
  {
   "cell_type": "markdown",
   "metadata": {},
   "source": [
    "<br>\n",
    "\n",
    "# 3.5\n",
    "\n",
    "<br>\n",
    "\n",
    "## Hack 1\n",
    "\n",
    "<br>\n",
    "\n",
    "### Python\n",
    "\n",
    "<br>"
   ]
  },
  {
   "cell_type": "code",
   "execution_count": 1,
   "metadata": {},
   "outputs": [
    {
     "name": "stdout",
     "output_type": "stream",
     "text": [
      "Go play outside!\n"
     ]
    }
   ],
   "source": [
    "# Assigning integer `age`\n",
    "age = 299139\n",
    "\n",
    "# Assigning boolean `is_old`\n",
    "is_old = age > 139913\n",
    "\n",
    "# If the age is over 139913, the first code will be run. Otherwise, the second code will be run.\n",
    "if is_old:\n",
    "    print(\"How are you alive?\")\n",
    "else:\n",
    "    print(\"Hi! You can be alive.\")"
   ]
  },
  {
   "cell_type": "markdown",
   "metadata": {},
   "source": [
    "<br>\n",
    "\n",
    "### JavaScript\n",
    "\n",
    "<br>"
   ]
  },
  {
   "cell_type": "code",
   "execution_count": null,
   "metadata": {
    "vscode": {
     "languageId": "javascript"
    }
   },
   "outputs": [],
   "source": [
    "%%javascript\n",
    "\n",
    "// Assigning integer `age`\n",
    "let age = 299139;\n",
    "\n",
    "// Assigning boolean `is_old`\n",
    "let is_old = age > 139913;\n",
    "\n",
    "// If the age is over 139913, the first code will be run. Otherwise, the second code will be run.\n",
    "if (is_old) {\n",
    "    console.log(\"How are you alive?\");\n",
    "} else {\n",
    "    print(\"Hi! You can be alive.\");\n",
    "}"
   ]
  },
  {
   "cell_type": "markdown",
   "metadata": {},
   "source": [
    "<br>\n",
    "\n",
    "## Hack 2\n",
    "\n",
    "<br>\n",
    "\n",
    "### Python\n",
    "\n",
    "<br>"
   ]
  },
  {
   "cell_type": "code",
   "execution_count": 2,
   "metadata": {},
   "outputs": [
    {
     "name": "stdout",
     "output_type": "stream",
     "text": [
      "Wow the friends' names have the same amount of letters!\n"
     ]
    }
   ],
   "source": [
    "# Assigning integer `height_inches`\n",
    "height_inches = 75\n",
    "\n",
    "# Average height is between 8 feet and 10 feet, exclusive\n",
    "is_average_height = height_inches > 96 and height_inches < 120\n",
    "\n",
    "# Non-average height is anywhere not in that range\n",
    "is_not_average_height = not is_average_height\n",
    "\n",
    "# If the height falls in the average range, first code will be run. Otherwise, second code will be run.\n",
    "if is_average_height:\n",
    "    print(\"Your height is average.\")\n",
    "elif is_not_average_height:\n",
    "    print(\"You are too tall or too short.\")"
   ]
  },
  {
   "cell_type": "markdown",
   "metadata": {},
   "source": [
    "<br>\n",
    "\n",
    "### JavaScript\n",
    "\n",
    "<br>"
   ]
  },
  {
   "cell_type": "code",
   "execution_count": null,
   "metadata": {
    "vscode": {
     "languageId": "javascript"
    }
   },
   "outputs": [],
   "source": [
    "%%javascript\n",
    "\n",
    "// Assigning integer `height_inches`\n",
    "let height_inches = 75;\n",
    "\n",
    "// Average height is between 8 feet and 10 feet, exclusive\n",
    "let is_average_height = height_inches > 96 && height_inches < 120;\n",
    "\n",
    "// Non-average height is anywhere not in that range\n",
    "let is_not_average_height = !is_average_height;\n",
    "\n",
    "// If the height falls in the average range, first code will be run. Otherwise, second code will be run.\n",
    "if (is_average_height) {\n",
    "    console.log(\"Your height is average.\");\n",
    "} else if (is_not_average_height){\n",
    "    console.log(\"You are too tall or too short.\");\n",
    "}"
   ]
  },
  {
   "cell_type": "markdown",
   "metadata": {},
   "source": [
    "<br>\n",
    "\n",
    "## Hack 3\n",
    "\n",
    "<br>\n",
    "\n",
    "### Python\n",
    "\n",
    "<br>"
   ]
  },
  {
   "cell_type": "code",
   "execution_count": 3,
   "metadata": {},
   "outputs": [
    {
     "name": "stdout",
     "output_type": "stream",
     "text": [
      "You are a teenager\n"
     ]
    }
   ],
   "source": [
    "# Assigning integer `age`\n",
    "age = 10\n",
    "\n",
    "# Only children under the age of 16 may drive\n",
    "can_drive = age < 16\n",
    "\n",
    "# If age < 16, first string is printed. Otherwise, second string is printed.\n",
    "print(can_drive if \"You can drive!\" else \"No driving you old person.\")"
   ]
  },
  {
   "cell_type": "markdown",
   "metadata": {},
   "source": [
    "<br>\n",
    "\n",
    "### JavaScript\n",
    "\n",
    "<br>"
   ]
  },
  {
   "cell_type": "code",
   "execution_count": 4,
   "metadata": {
    "vscode": {
     "languageId": "javascript"
    }
   },
   "outputs": [],
   "source": [
    "%%javascript\n",
    "\n",
    "// Assigning integer `age``\n",
    "let age = 10;\n",
    "\n",
    "// Only children under the age of 16 may drive\n",
    "let can_drive = age < 16;\n",
    "\n",
    "// If age < 16, first string is printed. Otherwise, second string is printed.\n",
    "console.log(can_drive ? \"You can drive!\" : \"No driving you old person.\");"
   ]
  },
  {
   "cell_type": "markdown",
   "metadata": {},
   "source": [
    "<br>\n",
    "\n",
    "## Homework\n",
    "\n",
    "<br>"
   ]
  },
  {
   "cell_type": "markdown",
   "metadata": {},
   "source": [
    "| A     | B     | Operator | Result |\n",
    "| ----- | ----- | -------- | ------ |\n",
    "| True  | True  | And      | True   |\n",
    "| True  | False | And      | False  |\n",
    "| False | True  | And      | False  |\n",
    "| False | False | And      | False  |\n",
    "| True  | True  | Or       | True   |\n",
    "| True  | False | Or       | True   |\n",
    "| False | True  | Or       | True   |\n",
    "| False | False | Or       | False  |\n",
    "| True  | True  | Xor      | False  |\n",
    "| True  | False | Xor      | True   |\n",
    "| False | True  | Xor      | True   |\n",
    "| False | False | Xor      | False  |"
   ]
  }
 ],
 "metadata": {
  "kernelspec": {
   "display_name": "Python 3",
   "language": "python",
   "name": "python3"
  },
  "language_info": {
   "codemirror_mode": {
    "name": "ipython",
    "version": 3
   },
   "file_extension": ".py",
   "mimetype": "text/x-python",
   "name": "python",
   "nbconvert_exporter": "python",
   "pygments_lexer": "ipython3",
   "version": "3.12.3"
  }
 },
 "nbformat": 4,
 "nbformat_minor": 2
}
