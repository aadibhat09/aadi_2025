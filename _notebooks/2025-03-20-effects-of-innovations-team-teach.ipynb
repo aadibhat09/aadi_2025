{
 "cells": [
  {
   "cell_type": "raw",
   "metadata": {
    "vscode": {
     "languageId": "raw"
    }
   },
   "source": [
    "---\n",
    "layout: post\n",
    "title: Effects of Innovation Blog\n",
    "description: A blog for the Effects of Innovation team\n",
    "permalink: /posts/team-teach-effects-of-innovation/\n",
    "comments: true\n",
    "---"
   ]
  },
  {
   "cell_type": "markdown",
   "metadata": {},
   "source": [
    "<br>\n",
    "\n",
    "## Popcorn Hack 1: How do technological innovations impact society in both positive and negative ways? Provide an example.\n",
    "\n",
    "One positive impact of technological innovations is how AI has helped to improve the medical industry in diagnosis of diseases. Also, another example is how social media allows people to stay connected and be up-to-date. A negative impact of AI is that it can lead to job displacement in many industries. A negative impact of social media is that it can lead to mental health issues due to cyberbullying. More harmful effects include the risk of losing privacy and having too much of a dependence on technology.\n",
    "\n",
    "<br>\n",
    "\n",
    "## Popcorn Hack 2: What is the meaning of negative effects of technology, and how can we use responsible programming to avoid and reduce these unintended harmful impacts?\n",
    "\n",
    "There are many negative impacts of technology. This can include job displacement, cyberbullying and mental health issues, loss of privacy, etc. These problems occur when technology is misused. By prioritizing security and transparency in software development, responsible programmers can reduce the harmful impacts of misused technology.\n",
    "\n",
    "<br>\n",
    "\n",
    "## Popcorn Hack 3: Why is it important to understand the unintended consequences of technology, especially dopamine-driver technology?\n",
    "\n",
    "It is important to understand the unintended consequences of technology because it helps for us to recognize how these tools are shaping our behavior, attention, and mental health. People can make more conscious choices about their technology usage based on their understanding of its consequences.\n",
    "\n",
    "<br>\n",
    "\n",
    "## Homework Hack 1: Rethinking AI for New Uses\n",
    "\n",
    "**AI Innovation**: Facial Recognition\n",
    "\n",
    "**Original Use**: Designed for security and identity verification.\n",
    "\n",
    "**New Use Case**: Using facial recognition for personalized healthcare monitoring in hospitals to detect signs of pain or distress in patients who can’t communicate.\n",
    "\n",
    "**Benefits**: Improves patient care by alerting doctors to unnoticed pain; reduces the need for constant human monitoring.\n",
    "\n",
    "**Risks**: Raises privacy concerns as patient faces are continuously analyzed; potential for false positives leading to unnecessary medical intervention.\n",
    "\n",
    "<br>\n",
    "\n",
    "## Homework Hack 2: Ethical AI Coding Challenge\n",
    "\n",
    "**Problem**: AI-powered resume screening can unintentionally discriminate against certain candidates.\n",
    "\n",
    "**Risk**: AI may favor resumes with certain keywords or backgrounds, leading to biased hiring.\n",
    "\n",
    "**Solution 1**: Train AI models on diverse datasets, ensuring fair representation across different groups.\n",
    "\n",
    "**Solution 2**: Implement a human review system where hiring managers check AI-filtered resumes to ensure fairness.\n",
    "\n",
    "**Reflection**: Ethical AI is essential to prevent discrimination and ensure equal opportunities for everyone. If AI isn’t designed responsibly, it can reinforce societal biases instead of reducing them. Thoughtful programming and human oversight can help make AI decisions more fair and inclusive.\n",
    "\n",
    "<br>\n",
    "\n",
    "## Homework Hack 3: AI & Unintended Consequences Research Task\n",
    "\n",
    "**AI Example**: AI chatbots spreading misinformation.\n",
    "\n",
    "**What Happened**: Chatbots like Meta’s Galactica were designed to generate scientific content, but they ended up producing false or misleading information.\n",
    "\n",
    "**Response**: Meta shut down Galactica just three days after launch due to public concerns over misinformation.\n",
    "\n",
    "**Prevention**: Developers should have rigorously tested the AI for misinformation before public release and included fact-checking mechanisms to validate AI-generated content."
   ]
  }
 ],
 "metadata": {
  "language_info": {
   "name": "python"
  }
 },
 "nbformat": 4,
 "nbformat_minor": 2
}
