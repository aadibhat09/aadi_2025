{
 "cells": [
  {
   "cell_type": "markdown",
   "metadata": {},
   "source": [
    "---\n",
    "layout: post\n",
    "title: 3.6 and 3.7 Hacks\n",
    "description: Completing the hacks for lessons 3.6 and 3.7\n",
    "permalink: /posts/hacks\n",
    "comments: true\n",
    "---"
   ]
  },
  {
   "cell_type": "markdown",
   "metadata": {},
   "source": [
    "<br>\n",
    "\n",
    "# 3.6\n",
    "\n",
    "<br>\n",
    "\n",
    "## Hack 1\n",
    "\n",
    "<br>\n",
    "\n",
    "Create a simple conditional statement.\n",
    "\n",
    "<br>"
   ]
  },
  {
   "cell_type": "code",
   "execution_count": 1,
   "metadata": {},
   "outputs": [
    {
     "name": "stdout",
     "output_type": "stream",
     "text": [
      "Go play outside!\n"
     ]
    }
   ],
   "source": [
    "# Declaring two boolean values\n",
    "is_raining = False\n",
    "is_bored = True\n",
    "\n",
    "# Compares one value to the opposite of the other value\n",
    "if is_bored and not is_raining:\n",
    "    print(\"Go play outside!\")\n",
    "else:\n",
    "    print(\"idk what to tell you man\")"
   ]
  },
  {
   "cell_type": "markdown",
   "metadata": {},
   "source": [
    "<br>\n",
    "\n",
    "## Hack 2\n",
    "\n",
    "<br>\n",
    "\n",
    "Create a piece of code that compares two statements and checks if they are equal to each other.\n",
    "\n",
    "<br>"
   ]
  },
  {
   "cell_type": "code",
   "execution_count": 2,
   "metadata": {},
   "outputs": [
    {
     "name": "stdout",
     "output_type": "stream",
     "text": [
      "Wow the friends' names have the same amount of letters!\n"
     ]
    }
   ],
   "source": [
    "# Declaring two string values\n",
    "friend_one = \"Billy\"\n",
    "friend_two = \"Bobby\"\n",
    "\n",
    "# Declaring two integer values\n",
    "friend_one_length = len(friend_one)\n",
    "friend_two_length = len(friend_two)\n",
    "\n",
    "# Compares the values with each other\n",
    "if friend_one == friend_two:\n",
    "    print(\"Wow the friends have the same name!\")\n",
    "elif friend_one_length == friend_two_length:\n",
    "    print(\"Wow the friends' names have the same amount of letters!\")\n",
    "else:\n",
    "    print(\"The friends have completely different names.\")"
   ]
  },
  {
   "cell_type": "markdown",
   "metadata": {},
   "source": [
    "<br>\n",
    "\n",
    "## Hack 3\n",
    "\n",
    "<br>\n",
    "\n",
    "Create a simple program that classifies an individual as a “Child,” “Teenager,” or “Adult” based on their age input.\n",
    "\n",
    "<br>"
   ]
  },
  {
   "cell_type": "code",
   "execution_count": 3,
   "metadata": {},
   "outputs": [
    {
     "name": "stdout",
     "output_type": "stream",
     "text": [
      "You are a teenager\n"
     ]
    }
   ],
   "source": [
    "age = int(input())\n",
    "\n",
    "if age < 13:\n",
    "    print(\"You are a child\")\n",
    "elif age < 18:\n",
    "    print(\"You are a teenager\")\n",
    "else:\n",
    "    print(\"You are an adult\")"
   ]
  },
  {
   "cell_type": "markdown",
   "metadata": {},
   "source": [
    "<br>\n",
    "\n",
    "## Hack 4\n",
    "\n",
    "<br>\n",
    "\n",
    "Create a counter function that takes input.\n",
    "\n",
    "<br>"
   ]
  },
  {
   "cell_type": "code",
   "execution_count": 4,
   "metadata": {},
   "outputs": [],
   "source": [
    "# Defining a function that takes an integer parameter, `n`\n",
    "def counter(n):\n",
    "\n",
    "    # Loop `n` times\n",
    "    for i in range(n):\n",
    "\n",
    "        # Take input\n",
    "        inp = input(\"Type the number \" + str(i))\n",
    "\n",
    "        # Continue if the number is correct, break if it isn't\n",
    "        if int(inp) == i:\n",
    "            continue\n",
    "        else:\n",
    "            print(\"Come on man...\")\n",
    "            break\n",
    "\n",
    "# Call the function with value of user's input\n",
    "counter(int(input(\"Enter any number! \")))"
   ]
  },
  {
   "cell_type": "markdown",
   "metadata": {},
   "source": [
    "<br>\n",
    "\n",
    "# 3.7\n",
    "\n",
    "<br>\n",
    "\n",
    "## Hack 1\n",
    "\n",
    "<br>\n",
    "\n",
    "Test out the examples above and change up the the starting values to play with how the conditions within each other work.\n",
    "Demonstrate knowledge of nested conditionals by creating your own nested conditional statements.\n",
    "\n",
    "<br>"
   ]
  },
  {
   "cell_type": "code",
   "execution_count": 5,
   "metadata": {},
   "outputs": [
    {
     "name": "stdout",
     "output_type": "stream",
     "text": [
      "You have potato internet.\n"
     ]
    }
   ],
   "source": [
    "\n",
    "# Defining a function that takes an integer parameter, `latency`\n",
    "def check_latency(latency):\n",
    "\n",
    "    # Check if latency is more than 30 Mbps\n",
    "    if latency > 30:\n",
    "\n",
    "        # Check if latency is more than 50 Mbps\n",
    "        if latency > 50:\n",
    "\n",
    "            # Check if latency is more than 100 Mbps\n",
    "            if latency > 100:\n",
    "                return \"You have potato internet.\"\n",
    "            else:\n",
    "                return \"You can play Among Us with friends!.\"\n",
    "        else:\n",
    "            return \"You can play Minecraft with friends!\"\n",
    "    else:\n",
    "        return \"You can play COD with friends!\"\n",
    "\n",
    "# Call the function with value of user's input\n",
    "print(check_latency(int(input(\"What is your latency in Mbps?\"))))"
   ]
  },
  {
   "cell_type": "markdown",
   "metadata": {},
   "source": [
    "<br>\n",
    "\n",
    "## Extra Credit: Caesar Cipher\n",
    "\n",
    "<br>"
   ]
  },
  {
   "cell_type": "code",
   "execution_count": 6,
   "metadata": {},
   "outputs": [
    {
     "name": "stdout",
     "output_type": "stream",
     "text": [
      "wtaad bn cpbt xh ppsx qwpi\n"
     ]
    }
   ],
   "source": [
    "# Defining a function that takes two paramenters, a string and an integer\n",
    "def caesar(string, shift):\n",
    "\n",
    "    # Preset alphabet for reference\n",
    "    alphabet = \"abcdefghijklmnopqrstuvwxyz\"\n",
    "\n",
    "    # Output\n",
    "    new_string = \"\"\n",
    "\n",
    "    # Looping through given string's characters\n",
    "    for character in string:\n",
    "\n",
    "        # If the character is a letter...\n",
    "        if character.lower() in alphabet:\n",
    "\n",
    "            # Add the shifted character to the new string\n",
    "            index = alphabet.index(character.lower())\n",
    "            new_index = index + (shift % 26)\n",
    "            new_string += (alphabet*2)[new_index]\n",
    "        \n",
    "        # Otherwise...\n",
    "        else:\n",
    "            # Add the normal character to the new string\n",
    "            new_string += character\n",
    "\n",
    "    # Return the new string\n",
    "    return new_string\n",
    "\n",
    "# Call the function with values from this string\n",
    "print(caesar(\"hello my name is aadi bhat\", -11))"
   ]
  }
 ],
 "metadata": {
  "kernelspec": {
   "display_name": "Python 3",
   "language": "python",
   "name": "python3"
  },
  "language_info": {
   "codemirror_mode": {
    "name": "ipython",
    "version": 3
   },
   "file_extension": ".py",
   "mimetype": "text/x-python",
   "name": "python",
   "nbconvert_exporter": "python",
   "pygments_lexer": "ipython3",
   "version": "3.12.3"
  }
 },
 "nbformat": 4,
 "nbformat_minor": 2
}
