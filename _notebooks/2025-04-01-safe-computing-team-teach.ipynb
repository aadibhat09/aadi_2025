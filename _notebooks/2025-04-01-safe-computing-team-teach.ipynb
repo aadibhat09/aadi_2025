{
 "cells": [
  {
   "cell_type": "raw",
   "metadata": {
    "vscode": {
     "languageId": "raw"
    }
   },
   "source": [
    "---\n",
    "layout: post\n",
    "title: Safe Computing Blog\n",
    "description: A blog for the Safe Computing team\n",
    "permalink: /postssafe-computing/\n",
    "comments: true\n",
    "---"
   ]
  },
  {
   "cell_type": "markdown",
   "metadata": {},
   "source": [
    "## Popcorn Hack 1: which of the following is considered PII\n",
    "\n",
    "A. fingerprint\n",
    "B. favorite color\n",
    "C. zip code\n",
    "D. job title\n",
    "\n",
    "Answer: a fingerprint would be considered PII because it contains biometric data, which is very sensitive.\n",
    "\n",
    "## Pop Quiz: Multifactor Authentication\n",
    "\n",
    "Which of the following is NOT an example of a multifactor authentication (MFA) factor?\n",
    "\n",
    "A. A password used to log into an email account.\n",
    "B. A verification code sent to a user's phone.\n",
    "C. A fingerprint scan on a smartphone.\n",
    "D. A username required to log in.\n",
    "\n",
    "Answer: a password and a username are not examples of MFA because both of these are the basic requirements for logging into an account. A verification and a fingerprint scan are both a second layer of security, but a username and password are required.\n",
    "\n",
    "## Popcorn Hack 2: Encryption Quiz\n",
    "Which of the following is an example of symmetric encryption?\n",
    "\n",
    "A. Evy buys a locked box that operates using two different codes. When the first code is entered, a slot opens that allows a message to be put in the box. When the second code is entered, the door to the box opens. Evy gives the first code to her friends so they can leave messages for her and keeps the second code to herself so that she is the only one who can retrieve the messages.\n",
    "\n",
    "B. Finn and Gwen develop a system that maps each letter of the alphabet to a unique symbol using a secret key. Finn uses the key to write a message to Gwen where each letter is replaced with the corresponding symbol. Gwen uses the key to map each symbol back to the original letter.\n",
    "\n",
    "C. Hannah writes a message to send to Isabel and hides the message under a rock behind the soccer field. Hannah gives Isabel the exact location of the rock so that only Isabel can find the message.\n",
    "\n",
    "D. Juan writes a message to send to Kelly and slides the message through a slot in the front of Kelly’s locker. Juan knows that Kelly has not shared her locker combination with anyone, so no one other than Kelly will be able to read the message.\n",
    "\n",
    "Answer: Choice B is a good example of symmetric encryption because Finn and Gwen map each letter to a unique symbol using a key, which means the same key can be used for both encryption and decryption.\n",
    "\n",
    "## Popcorn Hack: Password Security\n",
    "\n",
    "Go to [security.org/how-secure-is-my-password](https://security.org/how-secure-is-my-password) and make a secure password.\n",
    "\n",
    "Write and discuss with the people around you about what makes a good password.\n",
    "\n",
    "\n",
    "A good password must be long and contain a variety of characters (eg. both uppercase and lowercase letters, numbers, and special characters). This makes the password harder to decrypt because it would take much longer for a computer to iterate and get to this password. The password must especially not be a common word or phrase (eg. `password123`) because these passwords could be in a wordlist of most common passwords that a computer could use to decrypt it quickly."
   ]
  }
 ],
 "metadata": {
  "language_info": {
   "name": "python"
  }
 },
 "nbformat": 4,
 "nbformat_minor": 2
}
