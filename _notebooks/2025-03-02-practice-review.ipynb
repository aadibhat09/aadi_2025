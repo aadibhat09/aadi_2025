{
 "cells": [
  {
   "cell_type": "raw",
   "metadata": {
    "vscode": {
     "languageId": "raw"
    }
   },
   "source": [
    "---\n",
    "layout: post\n",
    "title: Practice Review Reflection\n",
    "description: A reflection of my practice review.\n",
    "permalink: /posts/practice-review/\n",
    "comments: true\n",
    "---"
   ]
  },
  {
   "cell_type": "markdown",
   "metadata": {},
   "source": [
    "I reviewed my final project with both Ms. Pataki and Mihir Bapat, a student in another CSP period. These reviews were helpful in giving feedback, especially when the person has not seen our project before.\n",
    "\n",
    "After these reviews, I refined my feature and my presentation before N@TM to be more engaging. For example, I was told to go more in depth about the backend and how requests are sent, so I incorporated this into my final N@TM presentation.\n",
    "\n",
    "<br>\n",
    "\n",
    "# Mihir Bapat Peer Grading Rubric\n",
    "\n",
    "| Category                          | Points | Description                                                                                                                                                       | Peer Grade |\n",
    "| --------------------------------- | ------ | ----------------------------------------------------------------------------------------------------------------------------------------------------------------- | ---------- |\n",
    "| **Five tasks over 12 weeks**      | 5      | List five things completed, including issues addressed, burndown tracking, and presentation work.                                                                 |        4.7   |\n",
    "| **Full Stack Project Demo**       | 2      | Demonstrate the project, highlight CPT requirements, and incorporate N@tM feedback.                                                                              |    1.6        |\n",
    "| **Project Feature Blog Write-up** | 1      | Use CPT/FRQ language to write a structured blog post on project features.                                                                                        |      1.0      |\n",
    "| **MCQ Completion**                | 1      | Successfully complete and reflect on multiple-choice questions.                                                                                                   |      0.9      |\n",
    "| **Retrospective Reflection**      | 1      | - Reflect on strengths and weaknesses<br> - Create next steps plans for improvement<br> - Engage with peer projects and document interests<br> - Think about future steps in CompSci, classes, college, internships, or career<br> - Help a new peer with final exam prep or conduct a live review with Ms. Pataki<br> - Send a detailed summary of review points 24 hours in advance, including a self-grade assessment |      1.0      |\n",
    "| **Total**                         | 10     | Maximum possible score. | 9.2 |\n",
    "\n",
    "<br>\n",
    "\n",
    "Mihir advised me to be more clear when presenting my 5 big things so that someone who has never seen my project before will understand my contributions. I incorporated this into my N@TM presentation to be more engaging."
   ]
  }
 ],
 "metadata": {
  "language_info": {
   "name": "python"
  }
 },
 "nbformat": 4,
 "nbformat_minor": 2
}
