{
 "cells": [
  {
   "cell_type": "raw",
   "metadata": {
    "vscode": {
     "languageId": "raw"
    }
   },
   "source": [
    "---\n",
    "layout: post\n",
    "title: Individual Reflection\n",
    "description: An individual reflection of my journey.\n",
    "permalink: /posts/individual-reflection/\n",
    "comments: true\n",
    "---"
   ]
  },
  {
   "cell_type": "markdown",
   "metadata": {},
   "source": [
    "## Strengths\n",
    "\n",
    "This trimester has helped me use my skills in CSP to create a wonderful project. Some of the skills that I have honed include:\n",
    "- Collaborating with my team members and making sure that everyone understands their feature and roe\n",
    "- Coming up with fun ideas to implement onto our features\n",
    "- Fixing problems with our code quickly through debugging\n",
    "- Helping out with other people in CSP\n",
    "\n",
    "## Weaknesses\n",
    "\n",
    "I also have a few things I need to work on, such as:\n",
    "- Time management; I need to make sure that our team has finished their features well before the day of live reviews so we don't end up panicking at the last minute.\n",
    "- Listening to team members; Sometimes it is hard for me to incorporate my team feedback so I need to make sure that I listen and understand their feedback and incorporate it.\n",
    "\n",
    "## Future Goals\n",
    "\n",
    "Next in computer science, I hope to participate in hackathons with my friends and create projects that use AI to make a difference. This is what I am interested in and I have made a few projects related to this already.\n",
    "\n",
    "I have also signed up for many computer science Summer programs and internships that I hope to attend, such as COSMOS at UCSC, SIP at UCSC, RMP at UCSB, and SRA at UCSB.\n",
    "\n",
    "I will also work towards updating my own portfolio website, which you can find [here](https://aadibh.at).\n",
    "\n",
    "Next year, I plan on taking the AP CSA exam. I enjoyed being able to get creative in CSP and I hope to apply similar skills in the next level of AP programming. I have experience in Java and OOP and I will be able to apply this as well."
   ]
  },
  {
   "cell_type": "markdown",
   "metadata": {},
   "source": []
  }
 ],
 "metadata": {
  "language_info": {
   "name": "python"
  }
 },
 "nbformat": 4,
 "nbformat_minor": 2
}
