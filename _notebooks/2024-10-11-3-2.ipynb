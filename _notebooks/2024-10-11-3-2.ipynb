{
 "cells": [
  {
   "cell_type": "raw",
   "metadata": {},
   "source": [
    "---\n",
    "layout: post\n",
    "title: 3.2 Hacks and Homework\n",
    "description: Completing the hacks and homework for lesson 3.2\n",
    "permalink: /posts/units/3/2\n",
    "comments: true\n",
    "---"
   ]
  },
  {
   "cell_type": "markdown",
   "metadata": {},
   "source": [
    "<br>\n",
    "\n",
    "# 3.2\n",
    "\n",
    "<br>\n",
    "\n",
    "## Hack 1\n",
    "\n",
    "<br>\n",
    "\n",
    "### Python\n",
    "\n",
    "<br>"
   ]
  },
  {
   "cell_type": "code",
   "execution_count": 1,
   "metadata": {},
   "outputs": [
    {
     "name": "stdout",
     "output_type": "stream",
     "text": [
      "{\"make\": \"Dodge\", \"model\": \"Charger Hellcat\", \"year\": 2023, \"specs\": {\"engine\": \"6.2L Supercharged V8\", \"fuel_type\": \"Gasoline\", \"horsepower\": 707, \"torque\": 650, \"transmission\": \"Automatic\"}, \"features\": [\"Bluetooth\", \"Backup Camera\"], \"price\": 69995.5, \"is_new\": true}\n"
     ]
    }
   ],
   "source": [
    "import json\n",
    "\n",
    "# Definining JSON object of Hellcat\n",
    "hellcat_dict = {\n",
    "    \"make\": \"Dodge\",\n",
    "    \"model\": \"Charger Hellcat\",\n",
    "    \"year\": 2023,\n",
    "    \"specs\": {\n",
    "        \"engine\": \"6.2L Supercharged V8\",\n",
    "        \"fuel_type\": \"Gasoline\",\n",
    "        \"horsepower\": 707,\n",
    "        \"torque\": 650,\n",
    "        \"transmission\": \"Automatic\"\n",
    "    },\n",
    "    \"features\": [\n",
    "        \"Bluetooth\",\n",
    "        \"Backup Camera\"\n",
    "    ],\n",
    "    \"price\": 69995.50,\n",
    "    \"is_new\": True\n",
    "}\n",
    "\n",
    "# Dumping JSON data to a string and outputting\n",
    "json_string = json.dumps(hellcat_dict)\n",
    "print(json_string)"
   ]
  },
  {
   "cell_type": "markdown",
   "metadata": {},
   "source": [
    "<br>\n",
    "\n",
    "### JavaScript\n",
    "\n",
    "<br>"
   ]
  },
  {
   "cell_type": "code",
   "execution_count": 2,
   "metadata": {
    "vscode": {
     "languageId": "javascript"
    }
   },
   "outputs": [
    {
     "data": {
      "application/javascript": "\n// Defining booleans with values of true and false\nlet yes = true;\nlet no = false;\n\n// You WILL buy a brand new car!\nconsole.log(\"You will buy a brand new car...\" + yes);\n\n// You WON'T get stinky socks for Christmas!\nconsole.log(\"You will get stinky socks for Christmas...\" + no);\n",
      "text/plain": [
       "<IPython.core.display.Javascript object>"
      ]
     },
     "metadata": {},
     "output_type": "display_data"
    }
   ],
   "source": [
    "%%javascript\n",
    "\n",
    "// Defining booleans with values of true and false\n",
    "let yes = true;\n",
    "let no = false;\n",
    "\n",
    "// You WILL buy a brand new car!\n",
    "console.log(\"You will buy a brand new car...\" + yes);\n",
    "\n",
    "// You WON'T get stinky socks for Christmas!\n",
    "console.log(\"You will get stinky socks for Christmas...\" + no);"
   ]
  },
  {
   "cell_type": "markdown",
   "metadata": {},
   "source": [
    "<br>\n",
    "\n",
    "## Homework\n",
    "\n",
    "<br>\n",
    "\n",
    "### Python\n",
    "\n",
    "<br>"
   ]
  },
  {
   "cell_type": "code",
   "execution_count": 3,
   "metadata": {},
   "outputs": [
    {
     "name": "stdout",
     "output_type": "stream",
     "text": [
      "{'make': 'Dodge', 'model': 'Charger Hellcat', 'year': 2023, 'specs': {'engine': '6.2L Supercharged V8', 'fuel_type': 'Gasoline', 'horsepower': 707, 'torque': 650, 'transmission': 'Automatic'}, 'features': ['Bluetooth', 'Backup Camera'], 'price': 69995.5, 'is_new': True}\n",
      "9999999.99\n",
      "False\n",
      "['Bluetooth', 'Backup Camera', 'Blind Spot Monitoring']\n",
      "2020\n",
      "Challenger Hellcat\n",
      "{\n",
      "    \"make\": \"Dodge\",\n",
      "    \"model\": \"Challenger Hellcat\",\n",
      "    \"year\": 2020,\n",
      "    \"specs\": {\n",
      "        \"engine\": \"6.2L Supercharged V8\",\n",
      "        \"fuel_type\": \"Gasoline\",\n",
      "        \"horsepower\": 707,\n",
      "        \"torque\": 650,\n",
      "        \"transmission\": \"Automatic\"\n",
      "    },\n",
      "    \"features\": [\n",
      "        \"Bluetooth\",\n",
      "        \"Backup Camera\",\n",
      "        \"Blind Spot Monitoring\"\n",
      "    ],\n",
      "    \"price\": 9999999.99,\n",
      "    \"is_new\": false\n",
      "}\n"
     ]
    }
   ],
   "source": [
    "import json\n",
    "\n",
    "# Definining JSON object of Hellcat\n",
    "hellcat_dict = {\n",
    "    \"make\": \"Dodge\",\n",
    "    \"model\": \"Charger Hellcat\",\n",
    "    \"year\": 2023,\n",
    "    \"specs\": {\n",
    "        \"engine\": \"6.2L Supercharged V8\",\n",
    "        \"fuel_type\": \"Gasoline\",\n",
    "        \"horsepower\": 707,\n",
    "        \"torque\": 650,\n",
    "        \"transmission\": \"Automatic\"\n",
    "    },\n",
    "    \"features\": [\n",
    "        \"Bluetooth\",\n",
    "        \"Backup Camera\"\n",
    "    ],\n",
    "    \"price\": 69995.50,\n",
    "    \"is_new\": True\n",
    "}\n",
    "\n",
    "# Printing the original dictionary\n",
    "print(hellcat_dict)\n",
    "\n",
    "# Increasing price\n",
    "hellcat_dict[\"price\"] = 9999999.99\n",
    "print(hellcat_dict[\"price\"])\n",
    "\n",
    "# Making it not new anymore\n",
    "hellcat_dict[\"is_new\"] = False\n",
    "print(hellcat_dict[\"is_new\"])\n",
    "\n",
    "# Adding a feature\n",
    "hellcat_dict[\"features\"] = [\"Bluetooth\", \"Backup Camera\", \"Blind Spot Monitoring\"]\n",
    "print(hellcat_dict[\"features\"])\n",
    "\n",
    "# Newer model (setting to 2020)\n",
    "hellcat_dict[\"year\"] = 2020\n",
    "print(hellcat_dict[\"year\"])\n",
    "\n",
    "# Changing the model\n",
    "hellcat_dict[\"model\"] = \"Challenger Hellcat\"\n",
    "print(hellcat_dict[\"model\"])\n",
    "\n",
    "# Printing the final dictionary as a JSON string\n",
    "print(json.dumps(hellcat_dict, indent=4))"
   ]
  },
  {
   "cell_type": "markdown",
   "metadata": {},
   "source": [
    "<br>\n",
    "\n",
    "### JavaScript\n",
    "\n",
    "<br>"
   ]
  },
  {
   "cell_type": "code",
   "execution_count": 4,
   "metadata": {
    "vscode": {
     "languageId": "javascript"
    }
   },
   "outputs": [
    {
     "data": {
      "application/javascript": "\n// Definining JSON object of Hellcat\nlet hellcat_json = \n{\n  \"make\": \"Dodge\",\n  \"model\": \"Charger Hellcat\",\n  \"year\": 2023,\n  \"specs\": {\n    \"engine\": \"6.2L Supercharged V8\",\n    \"fuel_type\": \"Gasoline\",\n    \"horsepower\": 707,\n    \"torque\": 650,\n    \"transmission\": \"Automatic\"\n  },\n  \"features\": [\n    \"Bluetooth\",\n    \"Backup Camera\"\n  ],\n  \"price\": 69995.50,\n  \"is_new\": true,\n};\n\n\nconsole.log(hellcat_json);\n\n// Increasing price\nhellcat_json.price = 9999999.99;\nconsole.log(hellcat_json.price);\n\n// Making it not new anymore\nhellcat_json.is_new = false;\nconsole.log(hellcat_json.false);\n\n// Adding a feature\nhellcat_json.features = [\"Bluetooth\", \"Backup Camera\", \"Blind Spot Monitoring\"];\nconsole.log(hellcat_json.features);\n\n// Newer model\nhellcat_json.year = 2020;\nconsole.log(hellcat_json.year);\n\n// Changing the model\nhellcat_json.model =\"Challenger Hellcat\";\nconsole.log(hellcat_json.model);\n\n// Output the final object as a JSON string\nconsole.log(JSON.stringify(hellcat_json));\n",
      "text/plain": [
       "<IPython.core.display.Javascript object>"
      ]
     },
     "metadata": {},
     "output_type": "display_data"
    }
   ],
   "source": [
    "%%javascript\n",
    "\n",
    "// Definining JSON object of Hellcat\n",
    "let hellcat_json = \n",
    "{\n",
    "  \"make\": \"Dodge\",\n",
    "  \"model\": \"Charger Hellcat\",\n",
    "  \"year\": 2023,\n",
    "  \"specs\": {\n",
    "    \"engine\": \"6.2L Supercharged V8\",\n",
    "    \"fuel_type\": \"Gasoline\",\n",
    "    \"horsepower\": 707,\n",
    "    \"torque\": 650,\n",
    "    \"transmission\": \"Automatic\"\n",
    "  },\n",
    "  \"features\": [\n",
    "    \"Bluetooth\",\n",
    "    \"Backup Camera\"\n",
    "  ],\n",
    "  \"price\": 69995.50,\n",
    "  \"is_new\": true,\n",
    "};\n",
    "\n",
    "\n",
    "console.log(hellcat_json);\n",
    "\n",
    "// Increasing price\n",
    "hellcat_json.price = 9999999.99;\n",
    "console.log(hellcat_json.price);\n",
    "\n",
    "// Making it not new anymore\n",
    "hellcat_json.is_new = false;\n",
    "console.log(hellcat_json.false);\n",
    "\n",
    "// Adding a feature\n",
    "hellcat_json.features = [\"Bluetooth\", \"Backup Camera\", \"Blind Spot Monitoring\"];\n",
    "console.log(hellcat_json.features);\n",
    "\n",
    "// Newer model\n",
    "hellcat_json.year = 2020;\n",
    "console.log(hellcat_json.year);\n",
    "\n",
    "// Changing the model\n",
    "hellcat_json.model =\"Challenger Hellcat\";\n",
    "console.log(hellcat_json.model);\n",
    "\n",
    "// Output the final object as a JSON string\n",
    "console.log(JSON.stringify(hellcat_json));"
   ]
  }
 ],
 "metadata": {
  "kernelspec": {
   "display_name": "Python 3",
   "language": "python",
   "name": "python3"
  },
  "language_info": {
   "codemirror_mode": {
    "name": "ipython",
    "version": 3
   },
   "file_extension": ".py",
   "mimetype": "text/x-python",
   "name": "python",
   "nbconvert_exporter": "python",
   "pygments_lexer": "ipython3",
   "version": "3.12.3"
  }
 },
 "nbformat": 4,
 "nbformat_minor": 2
}
