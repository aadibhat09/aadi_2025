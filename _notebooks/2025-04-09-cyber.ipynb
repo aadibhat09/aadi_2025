{
 "cells": [
  {
   "cell_type": "raw",
   "id": "43e29d52",
   "metadata": {
    "vscode": {
     "languageId": "raw"
    }
   },
   "source": [
    "---\n",
    "layout: post\n",
    "title: Cybersecurity Panel Blog\n",
    "description: A blog for the Cybersecurity Panel\n",
    "permalink: /posts/lybersecurity-panel/\n",
    "comments: true\n",
    "---"
   ]
  },
  {
   "cell_type": "markdown",
   "id": "f9b428ac",
   "metadata": {},
   "source": [
    "## What I learned about the panelists\n",
    "\n",
    "I learned a lot of stuff from each panelist and their inspiration and experience in cybersecurity! I took notes on what they said.\n",
    "\n",
    "__**David Tomasz**__\n",
    "- Works in criminal identification\n",
    "- One of the best hackers in the planet\n",
    "- Inspiration:\n",
    "  - He didn’t want to do computers or cyber 🙁 but he did it anyway and he likes it\n",
    "\n",
    "__**Victor Nzeata**__\n",
    "- Preventing hackers from getting our information\n",
    "- Made a PowerShell script to find a ton of old lingering data to be able to get rid of it for security reasons\n",
    "\n",
    "__**Tricia Mercer**__\n",
    "- One person who was on leave in their company still had access to all the data in their company\n",
    "  - Found out he was stealing their data and selling it to opposing organizations\n",
    "  - She ended his access to the data and reported him to authorities\n",
    "- Be curious!\n",
    "- Always be careful\n",
    "- Inspiration:\n",
    "  - Mom said “study computers, they’re the future”\n",
    "  - She read a book about tracking a spy through computer espionage\n",
    "  - She realized “wow you can be someone who can track down villains!”\n",
    "\n",
    "I also learned some new vocabulary words that I didn't know before, for example a zero-day is a dangerous vulnerability that has no patch. Even software developers can't fix it! That's pretty scary.\n",
    "\n",
    "The panelists gave advice on what students interested in cybersecurity should do now. They said...\n",
    "- Get a background in IT\n",
    "- Have soft skills\n",
    "  - Be likeable\n",
    "  - Be nice\n",
    "  - Be a good leader\n",
    "  - Be organized\n",
    "  - Be someone people can rely on\n",
    "- Try hacking stuff! (legally)\n",
    "- You might sometimes be in places where you don’t know anything and you have to start from zero, but it’s a good learning opportunity!\n",
    "\n",
    "They also provided their insight of how cybersecurity would change in the next 5-10 years, saying that healthcare IT will become really important and almost every entity will be hiring and prioritizing cybersecurity.\n",
    "\n",
    "<br>\n",
    "\n",
    "## Key takeaways\n",
    "\n",
    "I learned a lot from each panelist's cybersecurity experiences. Despite not intending to pursue the field, David Tomasz, one of the top hackers, ended up liking it a lot! To eliminate hidden security threats, Victor Nzeata builds a lot of scripts to automate cleaning out data, which can really help when there is a lot of unneeded data. Tricia Mercer emphasized curiosity and always being on your toes after catching someone stealing company data. I discovered that a zero-day is a serious vulnerability that cannot be fixed. The panelists suggested exploring ethical hacking, developing excellent soft skills, and expanding one's knowledge of IT. They stated it's acceptable to start from scratch and learn, and that cybersecurity will expand, particularly in the healthcare industry. They also suggested participating in hackathons to get more hands-on experience.\n",
    "\n",
    "<br>\n",
    "\n",
    "## What I plan on doing next\n",
    "\n",
    "Next, I plan to learn more about IT and cybersecurity through my own research. I already participate in hackathons with my friends but I will do more to improve my hands-on experience. I will also ensure that I am a good team member and leader in my CSP group and other groups I am in. This was a great panel!\n",
    "\n",
    "<br>\n",
    "\n",
    "## Photo\n",
    "\n",
    "<img src=\"../../images/cyber.jpg\">\n",
    "\n",
    "\n"
   ]
  }
 ],
 "metadata": {
  "language_info": {
   "name": "python"
  }
 },
 "nbformat": 4,
 "nbformat_minor": 5
}
