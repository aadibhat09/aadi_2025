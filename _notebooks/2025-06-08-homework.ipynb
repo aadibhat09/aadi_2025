{
 "cells": [
  {
   "cell_type": "raw",
   "id": "8205c473",
   "metadata": {
    "vscode": {
     "languageId": "raw"
    }
   },
   "source": [
    "---\n",
    "layout: post\n",
    "title: Homework Individual Report\n",
    "description: My final homework blog\n",
    "permalink: /posts/homework-blog/\n",
    "comments: true\n",
    "---"
   ]
  },
  {
   "cell_type": "markdown",
   "id": "8cc282ef",
   "metadata": {},
   "source": [
    "|  # |  Topic                                                                 |  Link                                                                                         |\n",
    "|------|-------------------------------------------------------------------------|------------------------------------------------------------------------------------------------------|\n",
    "| 1    | 3.2                                                                 | [View](https://aadibhat09.github.io/aadi_2025/posts/units/3/2)                                 |\n",
    "| 2    | 3.3                                                                 | [View](https://aadibhat09.github.io/aadi_2025/posts/units/3/3)                                 |\n",
    "| 3    | 3.4                                                                 | [View](https://aadibhat09.github.io/aadi_2025/posts/units/3/4)                                 |\n",
    "| 4    | 3.5                                                                 | [View](https://aadibhat09.github.io/aadi_2025/posts/units/3/5)                                 |\n",
    "| 5    | 3.6                                                                 | [View](https://aadibhat09.github.io/aadi_2025/posts/units/3/6)                                 |\n",
    "| 6    | 3.7                                                                 | [View](https://aadibhat09.github.io/aadi_2025/posts/units/3/7)                                 |\n",
    "| 7    | Base 64                                                                 | [View](https://aadibhat09.github.io/aadi_2025/posts/images-team-teach/)                                 |\n",
    "| 8    | Base 64                                                                 | [View](https://aadibhat09.github.io/aadi_2025/posts/images-team-teach/)                                 |\n",
    "| 9    | Base 64                                                                 | [View](https://aadibhat09.github.io/aadi_2025/posts/images-team-teach/)                                 |\n",
    "| 10    | Base 64                                                                 | [View](https://aadibhat09.github.io/aadi_2025/posts/images-team-teach/)                                 |\n",
    "| 11    | Binary Base                                                             | [View](https://aadibhat09.github.io/aadi_2025/posts/binary-team-teach/)                             |\n",
    "| 12    | Logic Gates                                                             | [View](https://aadibhat09.github.io/aadi_2025/posts/logic-gates-team-teach/)                                  |\n",
    "| 13    | Undecidable and Decidable Problems in Computer Science & Graphs/Heuristics | [View](https://aadibhat09.github.io/aadi_2025/posts/undecidable-and-decidable/)      |\n",
    "| 14    | Random Algorithms and Simulation Games Team Teach                      | [View](https://aadibhat09.github.io/aadi_2025/posts/simulation-games-and-random-algorithms/)                   |\n",
    "| 15    | Lists and Filtering Algorithms                                          | [View](https://aadibhat09.github.io/aadi_2025/posts/lists-and-filtering/)               |\n",
    "| 16    | Safe Computing                                                          | [View](https://aadibhat09.github.io/aadi_2025/posts/safe-computing/)                          |\n",
    "| 17    | Legal and Ethical Concerns                                             | [View](https://aadibhat09.github.io/aadi_2025/posts/legal-and-ethical/)                  |\n",
    "| 18   | Computing Bias                                                          | [View](https://aadibhat09.github.io/aadi_2025/posts/computer-bias/)                          |\n",
    "| 19   | Crowdsourcing in Computing                                             | [View](https://aadibhat09.github.io/aadi_2025/posts/crowdsourcing/)                          |\n",
    "| 20   | Digital Divide                                                   | [View](https://aadibhat09.github.io/aadi_2025/posts/digital-divide/)                         |\n",
    "| 21   | Beneficial and Harmful Effects of Computing                            | [View](https://aadibhat09.github.io/aadi_2025/posts/team-teach-effects-of-innovation/) |"
   ]
  }
 ],
 "metadata": {
  "language_info": {
   "name": "python"
  }
 },
 "nbformat": 4,
 "nbformat_minor": 5
}
