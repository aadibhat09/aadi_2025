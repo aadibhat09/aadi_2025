{
 "cells": [
  {
   "cell_type": "raw",
   "id": "3ecf5997",
   "metadata": {
    "vscode": {
     "languageId": "raw"
    }
   },
   "source": [
    "---\n",
    "layout: post\n",
    "title: Project Showcase Blog\n",
    "description: My project showcase blog\n",
    "permalink: /posts/project-showcase/\n",
    "comments: true\n",
    "---"
   ]
  },
  {
   "cell_type": "markdown",
   "id": "084b9f61",
   "metadata": {},
   "source": [
    "<br>\n",
    "<hr>\n",
    "\n",
    "# N@TM Tri 2\n",
    "\n",
    "## 1. Prism (CSP)\n",
    "\n",
    "This project is a social media platform that is focused on the interests of its users. It is a social network feed where users engage with suggestions, messages, surveys, and individuals who share their interests. These can all be upvoted or downvoted. On their profile, users can control their interests, which changes the way they interact with the site overall. They have the ability to view and edit their followers as well. Users can initiate conversations based on AI-suggested subjects that align with their interests in a random chat room. Additionally, users can make and save interest-related questionnaires. This project successfully imitates a social network catered to personal preferences.\n",
    "\n",
    "<img src=\"../../images/natm/prism.png\" width=\"1000px\" height=\"auto\">\n",
    "\n",
    "<br>\n",
    "<hr>\n",
    "\n",
    "## 2. Striverr (CSP)\n",
    "\n",
    "This was another CSP project that focuses on users' achievements. They can set their own personal goals, like a bucket list or a step tracker, and share it with others. I liked the project's organization and its vertical navbar and how the color scheme was similar across all pages. I suggested to add more admin features and to refine some features, because a few were just raw HTML requests.\n",
    "\n",
    "<img src=\"../../images/natm/striverr.png\" width=\"1000px\" height=\"auto\">\n",
    "\n",
    "<br>\n",
    "<hr>\n",
    "\n",
    "## 3. Platformer (CSSE)\n",
    "\n",
    "I also got the chance to see and review the project of a CSSE student. He had created a platformer Star Wars game where the player could interact with NPCs on a 2D field. It was interesting, especially since I never took CSSE and had not seen a project like this before. I recommended giving more functionality to some of the NPCs.\n",
    "\n",
    "<img src=\"../../images/natm/csse.png\" width=\"1000px\" height=\"auto\">\n",
    "\n",
    "<br>\n",
    "<hr>\n",
    "\n",
    "## Presenting my Project\n",
    "\n",
    "My group got the chance to present our own project, InterTravel, to many parents and other students. Our project is a travel planner to help simplify travelling for users.\n",
    "\n",
    "We created a Google Form and had people enter feedback and answer questions. On average from 12 responses, we receieved a score of...\n",
    "\n",
    "- **4.42** on uniqueness\n",
    "- **3.92** on website attractiveness\n",
    "- **4.42** on easiness to understand the demo\n",
    "- **4.67** on serving the purpose of simplifying travel\n",
    "\n",
    "Some people said we could improve by...\n",
    "\n",
    "- *\"very nice site but maybe explain a little basic backend\"*\n",
    "- *\"More Color would be inviting and aesthetic\"*\n",
    "- *\"add the address to each location like hotels\"*\n",
    "- *\"I think admins shouldn’t be able to delete reviews\"*\n",
    "\n",
    "\n",
    "# N@TM Tri 3\n",
    "\n",
    "![Image](https://github.com/user-attachments/assets/54f9aa05-dd2b-45ab-8d34-2a1b0b7a0bfa)\n",
    "\n",
    "![Image](https://github.com/user-attachments/assets/f9d196a1-5801-414f-9fb7-b95435eb2325)\n",
    "\n",
    "## Reflection\n",
    "\n",
    "\n",
    "Night at the Museum was a great event! My team and I got to share our improved Open Coding Society GitHub analytics page which we've been working on for the past few weeks in class. We talked to several people who gave us great feedback on our project! Additionally, we got to meet other students who worked on different projects, some through Open Coding Society and some through Pilot City. My favorite project was Pyre, which helps to warn people about natural disasters and emergencies in their areas. It was amazing to see the variety of ideas and their impact to our classroom and community. Looking forward to doing this again next year in CSA!"
   ]
  }
 ],
 "metadata": {
  "language_info": {
   "name": "python"
  }
 },
 "nbformat": 4,
 "nbformat_minor": 5
}
