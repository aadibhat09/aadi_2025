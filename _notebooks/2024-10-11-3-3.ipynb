{
 "cells": [
  {
   "cell_type": "markdown",
   "metadata": {},
   "source": [
    "---\n",
    "layout: post\n",
    "title: 3.3 Hacks and Homework\n",
    "description: Completing the hacks and homework for lesson 3.3\n",
    "permalink: /posts/units/3/3\n",
    "comments: true\n",
    "---"
   ]
  },
  {
   "cell_type": "markdown",
   "metadata": {},
   "source": [
    "<br>\n",
    "\n",
    "# 3.3\n",
    "\n",
    "<br>\n",
    "\n",
    "## Hack 1\n",
    "\n",
    "<br>\n",
    "\n",
    "### Python\n",
    "\n",
    "<br>"
   ]
  },
  {
   "cell_type": "code",
   "execution_count": 1,
   "metadata": {},
   "outputs": [
    {
     "name": "stdout",
     "output_type": "stream",
     "text": [
      "10.0\n"
     ]
    }
   ],
   "source": [
    "# Assigning an integer variable with a value of 19\n",
    "first = 19\n",
    "\n",
    "# Assigning an integer variable with a value of 21\n",
    "second = 21\n",
    "\n",
    "# Assigning an integer variable with a value of the sum of the first two\n",
    "third = first + second\n",
    "\n",
    "# Assigning an integer variable with a value of the quotient of the third and 4\n",
    "fourth = third / 4\n",
    "\n",
    "# Output the fourth value (10.0)\n",
    "print(fourth)"
   ]
  },
  {
   "cell_type": "markdown",
   "metadata": {},
   "source": [
    "<br>\n",
    "\n",
    "### JavaScript\n",
    "\n",
    "<br>"
   ]
  },
  {
   "cell_type": "code",
   "execution_count": 2,
   "metadata": {
    "vscode": {
     "languageId": "javascript"
    }
   },
   "outputs": [
    {
     "data": {
      "application/javascript": "\n// Assigning an integer variable with a value of 19\nlet first = 19;\n\n// Assigning an integer variable with a value of 21\nlet second = 21;\n\n// Assigning an integer variable with a value of the sum of the first two\nlet third = first + second;\n\n// Assigning an integer variable with a value of the quotient of the third and 4\nlet fourth = third / 4;\n\n// Output the fourth value (10.0)\nconsole.log(fourth);\n",
      "text/plain": [
       "<IPython.core.display.Javascript object>"
      ]
     },
     "metadata": {},
     "output_type": "display_data"
    }
   ],
   "source": [
    "%%javascript\n",
    "\n",
    "// Assigning an integer variable with a value of 19\n",
    "let first = 19;\n",
    "\n",
    "// Assigning an integer variable with a value of 21\n",
    "let second = 21;\n",
    "\n",
    "// Assigning an integer variable with a value of the sum of the first two\n",
    "let third = first + second;\n",
    "\n",
    "// Assigning an integer variable with a value of the quotient of the third and 4\n",
    "let fourth = third / 4;\n",
    "\n",
    "// Output the fourth value (10.0)\n",
    "console.log(fourth);"
   ]
  },
  {
   "cell_type": "markdown",
   "metadata": {},
   "source": [
    "<br>\n",
    "\n",
    "## Hack 2\n",
    "\n",
    "<br>\n",
    "\n",
    "### Python\n",
    "\n",
    "<br>"
   ]
  },
  {
   "cell_type": "code",
   "execution_count": 3,
   "metadata": {},
   "outputs": [
    {
     "name": "stdout",
     "output_type": "stream",
     "text": [
      "399\n",
      "0\n"
     ]
    }
   ],
   "source": [
    "# Assigning an integer variable with a value of 19\n",
    "first = 19\n",
    "\n",
    "# Assigning an integer variable with a value of 21\n",
    "second = 21\n",
    "\n",
    "# Assigning an integer variable with a value of the product of the first two\n",
    "third = first * second\n",
    "\n",
    "# Output the third value (399)\n",
    "print(third)\n",
    "\n",
    "# Assigning an integer variable with a value of the remainder of the third divided by the second\n",
    "fourth = third % second\n",
    "\n",
    "# Output the fourth value (0)\n",
    "print(fourth)"
   ]
  },
  {
   "cell_type": "markdown",
   "metadata": {},
   "source": [
    "<br>\n",
    "\n",
    "### JavaScript\n",
    "\n",
    "<br>"
   ]
  },
  {
   "cell_type": "code",
   "execution_count": 4,
   "metadata": {
    "vscode": {
     "languageId": "javascript"
    }
   },
   "outputs": [
    {
     "data": {
      "application/javascript": "\n// Assigning an integer variable with a value of 19\nlet first = 19;\n\n// Assigning an integer variable with a value of 21\nlet second = 21;\n\n// Assigning an integer variable with a value of the product of the first two\nlet third = first * second;\n\n// Output the third value (399)\nconsole.log(third);\n\n// Assigning an integer variable with a value of the remainder of the third divided by the second\nlet fourth = third % second;\n\n// Output the fourth value (0)\nconsole.log(fourth);\n",
      "text/plain": [
       "<IPython.core.display.Javascript object>"
      ]
     },
     "metadata": {},
     "output_type": "display_data"
    }
   ],
   "source": [
    "%%javascript\n",
    "\n",
    "// Assigning an integer variable with a value of 19\n",
    "let first = 19;\n",
    "\n",
    "// Assigning an integer variable with a value of 21\n",
    "let second = 21;\n",
    "\n",
    "// Assigning an integer variable with a value of the product of the first two\n",
    "let third = first * second;\n",
    "\n",
    "// Output the third value (399)\n",
    "console.log(third);\n",
    "\n",
    "// Assigning an integer variable with a value of the remainder of the third divided by the second\n",
    "let fourth = third % second;\n",
    "\n",
    "// Output the fourth value (0)\n",
    "console.log(fourth);"
   ]
  },
  {
   "cell_type": "markdown",
   "metadata": {},
   "source": [
    "<br>\n",
    "\n",
    "## Hack 3\n",
    "\n",
    "<br>\n",
    "\n",
    "### Python\n",
    "\n",
    "<br>"
   ]
  },
  {
   "cell_type": "code",
   "execution_count": 5,
   "metadata": {},
   "outputs": [
    {
     "name": "stdout",
     "output_type": "stream",
     "text": [
      "2\n"
     ]
    }
   ],
   "source": [
    "# Assigning an integer variable with a value of 19\n",
    "first = 19\n",
    "\n",
    "# Assigning an integer variable with a value of 21\n",
    "second = 21\n",
    "\n",
    "# Assigning an integer variable with a value of the difference of the first two\n",
    "third = second - first\n",
    "\n",
    "# Output the third value (2)\n",
    "print(third)"
   ]
  },
  {
   "cell_type": "markdown",
   "metadata": {},
   "source": [
    "<br>\n",
    "\n",
    "### JavaScript\n",
    "\n",
    "<br>"
   ]
  },
  {
   "cell_type": "code",
   "execution_count": 6,
   "metadata": {
    "vscode": {
     "languageId": "javascript"
    }
   },
   "outputs": [
    {
     "data": {
      "application/javascript": "\n// Assigning an integer variable with a value of 19\nlet first = 19;\n\n// Assigning an integer variable with a value of 21\nlet second = 21;\n\n// Assigning an integer variable with a value of the difference of the first two\nlet third = second - first;\n\n// Output the third value (2)\nconsole.log(third);\n",
      "text/plain": [
       "<IPython.core.display.Javascript object>"
      ]
     },
     "metadata": {},
     "output_type": "display_data"
    }
   ],
   "source": [
    "%%javascript\n",
    "\n",
    "// Assigning an integer variable with a value of 19\n",
    "let first = 19;\n",
    "\n",
    "// Assigning an integer variable with a value of 21\n",
    "let second = 21;\n",
    "\n",
    "// Assigning an integer variable with a value of the difference of the first two\n",
    "let third = second - first;\n",
    "\n",
    "// Output the third value (2)\n",
    "console.log(third);"
   ]
  },
  {
   "cell_type": "markdown",
   "metadata": {},
   "source": [
    "<br>\n",
    "\n",
    "## Homework\n",
    "\n",
    "<br>\n",
    "\n",
    "### Python\n",
    "\n",
    "<br>"
   ]
  },
  {
   "cell_type": "code",
   "execution_count": 7,
   "metadata": {},
   "outputs": [
    {
     "name": "stdout",
     "output_type": "stream",
     "text": [
      "40\n",
      "-2\n",
      "0.9047619047619048\n",
      "399\n",
      "714209495693373205673756419\n"
     ]
    }
   ],
   "source": [
    "# Assigning an integer variable with a value of 19\n",
    "first = 19\n",
    "\n",
    "# Assigning an integer variable with a value of 21\n",
    "second = 21\n",
    "\n",
    "# Output the sum of the values (40)\n",
    "print(first + second)\n",
    "\n",
    "# Output the difference of the values (-2)\n",
    "print(first - second)\n",
    "\n",
    "# Output the quotient of the values (0.905...)\n",
    "print(first / second)\n",
    "\n",
    "# Output the product of the values (399)\n",
    "print(first * second)\n",
    "\n",
    "# Output the first to the power of the second value (huge number)\n",
    "print(first ** second)"
   ]
  },
  {
   "cell_type": "markdown",
   "metadata": {},
   "source": [
    "<br>\n",
    "\n",
    "### JavaScript\n",
    "\n",
    "<br>"
   ]
  },
  {
   "cell_type": "raw",
   "metadata": {
    "vscode": {
     "languageId": "raw"
    }
   },
   "source": [
    "%%javascript\n",
    "\n",
    "// Assigning an integer variable with a value of 19\n",
    "let first = 19;\n",
    "\n",
    "// Assigning an integer variable with a value of 21\n",
    "let second = 21;\n",
    "\n",
    "// Output the sum of the values (40)\n",
    "console.log(first + second);\n",
    "\n",
    "// Output the difference of the values (-2)\n",
    "console.log(first - second);\n",
    "\n",
    "// Output the quotient of the values (0.905...)\n",
    "console.log(first / second);\n",
    "\n",
    "// Output the product of the values (399)\n",
    "console.log(first * second);\n",
    "\n",
    "// Output the first to the power of the second value (huge number)\n",
    "console.log(first ** second);"
   ]
  }
 ],
 "metadata": {
  "kernelspec": {
   "display_name": "Python 3",
   "language": "python",
   "name": "python3"
  },
  "language_info": {
   "codemirror_mode": {
    "name": "ipython",
    "version": 3
   },
   "file_extension": ".py",
   "mimetype": "text/x-python",
   "name": "python",
   "nbconvert_exporter": "python",
   "pygments_lexer": "ipython3",
   "version": "3.12.3"
  }
 },
 "nbformat": 4,
 "nbformat_minor": 2
}
