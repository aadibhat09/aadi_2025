{
 "cells": [
  {
   "cell_type": "markdown",
   "metadata": {},
   "source": [
    "---\n",
    "layout: post\n",
    "title: Sprint 2 Reflection\n",
    "description: Reflection for sprint two\n",
    "permalink: /posts/sprint-2-reflection\n",
    "comments: true\n",
    "---"
   ]
  },
  {
   "cell_type": "markdown",
   "metadata": {},
   "source": [
    "<br>\n",
    "\n",
    "These are the homework files that I have submitted for the other table groups in my class.\n",
    "\n",
    "Our table covered 3.1 and 3.4, so the links lead to our website.\n",
    "\n",
    "<button class=\"unit\"><a href=\"https://nighthawkcoders.github.io/portfolio_2025/csp/big-idea/3.1/p5/objectives\">3.1</a></button>\n",
    "<button class=\"unit\"><a href=\"units/3/2\">3.2</a></button>\n",
    "<button class=\"unit\"><a href=\"units/3/3\">3.3</a></button>\n",
    "<button class=\"unit\"><a href=\"https://nighthawkcoders.github.io/portfolio_2025/csp/big-idea/3.4/py/strings\">3.4</a></button>\n",
    "<button class=\"unit\"><a href=\"units/3/5\">3.5</a></button>\n",
    "<button class=\"unit\"><a href=\"units/3/6\">3.6</a></button>\n",
    "<button class=\"unit\"><a href=\"units/3/7\">3.7</a></button>\n",
    "<br>\n",
    "<br>\n",
    "<button class=\"issue\"><a href=\"https://github.com/aadibhat09/aadi_2025/issues/7\" target=\"_blank\">My issue</a></button>\n",
    "<br>\n",
    "<br>\n",
    "<img src=\"../images/pyjs.png\">\n",
    "<style>\n",
    "    button {\n",
    "        padding: 10px;\n",
    "        border-radius: 5px;\n",
    "        border: none;\n",
    "        transition: transform 0.1s;\n",
    "    }\n",
    "    .unit {\n",
    "        background-color: #cce5ff;\n",
    "    }\n",
    "    .issue {\n",
    "        background-color: #abe024;\n",
    "    }\n",
    "    button:hover {\n",
    "        transform: scale(1.05);\n",
    "    }\n",
    "    button a {\n",
    "        color: black;\n",
    "        font-weight: bold;\n",
    "    }\n",
    "    button a:hover {\n",
    "        text-decoration: none;\n",
    "        color: black;\n",
    "    }\n",
    "    img {\n",
    "        display: block;\n",
    "        margin-left: auto;\n",
    "        margin-right: auto;\n",
    "        width: 100%;\n",
    "    }\n",
    "</style>"
   ]
  }
 ],
 "metadata": {
  "language_info": {
   "name": "python"
  }
 },
 "nbformat": 4,
 "nbformat_minor": 2
}
