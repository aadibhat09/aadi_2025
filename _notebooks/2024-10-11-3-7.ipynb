{
 "cells": [
  {
   "cell_type": "raw",
   "metadata": {},
   "source": [
    "---\n",
    "layout: post\n",
    "title: 3.7 Hacks and Homework\n",
    "description: Completing the hacks and homework for lesson 3.7\n",
    "permalink: /posts/units/3/7\n",
    "comments: true\n",
    "---"
   ]
  },
  {
   "cell_type": "markdown",
   "metadata": {},
   "source": [
    "<br>\n",
    "\n",
    "# 3.7\n",
    "\n",
    "<br>\n",
    "\n",
    "## Hack 1\n",
    "\n",
    "<br>\n",
    "\n",
    "Test out the examples above and change up the the starting values to play with how the conditions within each other work.\n",
    "Demonstrate knowledge of nested conditionals by creating your own nested conditional statements.\n",
    "\n",
    "<br>"
   ]
  },
  {
   "cell_type": "code",
   "execution_count": 1,
   "metadata": {},
   "outputs": [
    {
     "name": "stdout",
     "output_type": "stream",
     "text": [
      "You have potato internet.\n"
     ]
    }
   ],
   "source": [
    "\n",
    "# Defining a function that takes an integer parameter, `latency`\n",
    "def check_latency(latency):\n",
    "\n",
    "    # Check if latency is more than 30 Mbps\n",
    "    if latency > 30:\n",
    "\n",
    "        # Check if latency is more than 50 Mbps\n",
    "        if latency > 50:\n",
    "\n",
    "            # Check if latency is more than 100 Mbps\n",
    "            if latency > 100:\n",
    "                return \"You have potato internet.\"\n",
    "            else:\n",
    "                return \"You can play Among Us with friends!.\"\n",
    "        else:\n",
    "            return \"You can play Minecraft with friends!\"\n",
    "    else:\n",
    "        return \"You can play COD with friends!\"\n",
    "\n",
    "# Call the function with value of user's input\n",
    "print(check_latency(int(input(\"What is your latency in Mbps?\"))))"
   ]
  },
  {
   "cell_type": "markdown",
   "metadata": {},
   "source": [
    "<br>\n",
    "\n",
    "## Extra Credit: Caesar Cipher\n",
    "\n",
    "<br>"
   ]
  },
  {
   "cell_type": "code",
   "execution_count": 2,
   "metadata": {},
   "outputs": [
    {
     "name": "stdout",
     "output_type": "stream",
     "text": [
      "wtaad bn cpbt xh ppsx qwpi\n"
     ]
    }
   ],
   "source": [
    "# Defining a function that takes two paramenters, a string and an integer\n",
    "def caesar(string, shift):\n",
    "\n",
    "    # Preset alphabet for reference\n",
    "    alphabet = \"abcdefghijklmnopqrstuvwxyz\"\n",
    "\n",
    "    # Output\n",
    "    new_string = \"\"\n",
    "\n",
    "    # Looping through given string's characters\n",
    "    for character in string:\n",
    "\n",
    "        # If the character is a letter...\n",
    "        if character.lower() in alphabet:\n",
    "\n",
    "            # Add the shifted character to the new string\n",
    "            index = alphabet.index(character.lower())\n",
    "            new_index = index + (shift % 26)\n",
    "            new_string += (alphabet*2)[new_index]\n",
    "        \n",
    "        # Otherwise...\n",
    "        else:\n",
    "            \n",
    "            # Add the normal character to the new string\n",
    "            new_string += character\n",
    "\n",
    "    # Return the new string\n",
    "    return new_string\n",
    "\n",
    "# Call the function with values from user input\n",
    "print(caesar(input(), -11))"
   ]
  }
 ],
 "metadata": {
  "kernelspec": {
   "display_name": "Python 3",
   "language": "python",
   "name": "python3"
  },
  "language_info": {
   "codemirror_mode": {
    "name": "ipython",
    "version": 3
   },
   "file_extension": ".py",
   "mimetype": "text/x-python",
   "name": "python",
   "nbconvert_exporter": "python",
   "pygments_lexer": "ipython3",
   "version": "3.12.3"
  }
 },
 "nbformat": 4,
 "nbformat_minor": 2
}
