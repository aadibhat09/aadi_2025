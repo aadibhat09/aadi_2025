{
 "cells": [
  {
   "cell_type": "raw",
   "id": "b924272a",
   "metadata": {
    "vscode": {
     "languageId": "raw"
    }
   },
   "source": [
    "---\n",
    "layout: post\n",
    "title: Undecidable and Decidable Problems in CS Blog\n",
    "description: A blog for the Undecidable and Decidable Problems in CS team\n",
    "permalink: /posts/undecidable-and-decidable/\n",
    "comments: true\n",
    "---"
   ]
  },
  {
   "cell_type": "markdown",
   "id": "21518bab",
   "metadata": {},
   "source": [
    "## Popcorn Hack 1: An algorithm can be used to solve an undecidable problem. (True/False)\n",
    "\n",
    "Answer: False, because the problem is undecidable and cannot be solved using a computer.\n",
    "\n",
    "## Popcorn Hack 2: If a programmer encounters an undecidable problem, they can just use an alogrihtm that works most of the time. (True/False)\n",
    "\n",
    "Answer: True, because although the algorithm won't work all of the time, it can still have a relatively high accuracy.\n",
    "\n",
    "## Popcorn Hack 3: Which of the following options is not an example of an undecidable problem?\n",
    "\n",
    "A. Halting Problem\n",
    "\n",
    "B. The Collatz Conjecture\n",
    "\n",
    "C. Rice’s Theorem\n",
    "\n",
    "D. Bubble sorting\n",
    "\n",
    "Answer: D, Bubble sorting, because it is just a simple sorting algorithm.\n",
    "\n",
    "## Homework Hack 1\n",
    "\n",
    "In order to maintain seamless operation, contemporary operating systems and browsers are able to identify endless loops or lengthy scripts. Browsers allow users to halt the script and display alerts such as \"Page Unresponsive.\" Users can force-quit frozen apps on most operating systems. Crash recovery and tab isolation help keep a single malicious script from taking down the entire system.\n",
    "\n",
    "## Popcorn Hack 1: True or False: In a directed graph, an edge from node A to node B implies that there is always a corresponding edge from node B to node A.\n",
    "\n",
    "Answer: False, sometimes if there is an arrow from one node to another but not a double arrow, it means that there is only a one-way connection.\n",
    "\n",
    "## Popcorn Hack #2: True or False: Heuristics always provide faster solutions than exact algorithms, but they may sacrifice accuracy for speed.\n",
    "\n",
    "Answer: True, because they do have faster solutions, but a lot of the time they are not accurate.\n",
    "\n",
    "## Popcorn Hack #3: True or False: While heuristic algorithms like the Nearest Neighbor algorithm can significantly reduce the computational time for TSP, they can never guarantee an optimal solution, and the gap between the heuristic solution and the optimal solution can grow exponentially as the number of cities increases.\n",
    "\n",
    "Answer: True, they find solutions that are good enough, but they do not guarantee an optimal solution.\n",
    "\n",
    "## Homework Hack\n",
    "\n",
    "In order to maintain seamless operation, operating systems and browsers are able to identify endless loops or lengthy scripts. Browsers allow users to halt the script and display alerts such as \"Page Unresponsive.\" Users can force-quit frozen apps on most operating systems. Crash recovery and tab isolation help keep a single malicious script from taking down the entire system."
   ]
  }
 ],
 "metadata": {
  "language_info": {
   "name": "python"
  }
 },
 "nbformat": 4,
 "nbformat_minor": 5
}
