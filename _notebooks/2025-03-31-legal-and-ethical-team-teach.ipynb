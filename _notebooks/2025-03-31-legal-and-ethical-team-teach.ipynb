{
 "cells": [
  {
   "cell_type": "raw",
   "metadata": {
    "vscode": {
     "languageId": "raw"
    }
   },
   "source": [
    "---\n",
    "layout: post\n",
    "title: Legal and Ethical Concerns Blog\n",
    "description: A blog for the Legal and Ethical Concerns team\n",
    "permalink: /posts/legal-and-ethical/\n",
    "comments: true\n",
    "---"
   ]
  },
  {
   "cell_type": "markdown",
   "metadata": {},
   "source": [
    "## Popcorn Hack 1: What are some ways to protect intellectual property? Write down what you can remember in a notebook.\n",
    "\n",
    "Some ways to protect intellectual property include using copyright, trademarks, patents, watermarks, DRM tools, or licensing. All of these will certify that this intellectual property belongs to this certain individual or company, which will prevent other people from stealing it.\n",
    "\n",
    "## Popcorn Hack 2:\n",
    "\n",
    "The MIT license is one of the most used open-source licenses. It allows other people to freely use it and modify and distribute their code. For example, people can copy, modify, and publish their copies of the software. The only condition is that the original copyright and license text must be displayed in all copies of the software.\n",
    "\n",
    "## Popcorn Hack 3: Define a Creative Common License. What are exceptions to the copyright law?\n",
    "\n",
    "A Creative Commons (CC) License is a type of public copyright license that enables creators to share their work with others while setting specific rules for how the work can be used. These licenses are designed to help creators share their work with freedom, but with clear boundaries about what others are allowed to do with it. There are several exceptions that allow others to use copyrighted material under specific conditions without seeking permission from the creator. Some of the exceptions are public domain, educational use, incidental use, government works, etc.\n",
    "\n",
    "## Popcorn Hack: Name as many ways as you can remember to prevent copyright infrigement.\n",
    "\n",
    "I discussed with Rayhaan. We decided that first, you must understand the copyright laws to ensure that you are not making any mistakes. Then, you must use original content, get permission, and avoid plagiarism. If you are publishing your own content, you must use copyright, trademark, registration, etc.\n",
    "\n",
    "[This is my Apache License in my personal repository.](https://github.com/aadibhat09/aadi_2025?tab=Apache-2.0-1-ov-file)\n",
    "\n",
    "## Description of Pilot City Project\n",
    "\n",
    "Our project is SD IMOP. It is a platform that aims toward city infrastructure management, to help with issues in the city infrastructure. This is a form of preventative maintenance because it is designed to solve problems within our city infrastructure before they become too severe.\n",
    "\n",
    "[This is my Apache License in my personal repository.](https://github.com/adik1025/imop_frontend/blob/main/LICENSE)"
   ]
  }
 ],
 "metadata": {
  "language_info": {
   "name": "python"
  }
 },
 "nbformat": 4,
 "nbformat_minor": 2
}
