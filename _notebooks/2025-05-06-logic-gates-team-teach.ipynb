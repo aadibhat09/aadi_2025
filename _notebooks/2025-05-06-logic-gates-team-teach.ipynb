{
 "cells": [
  {
   "cell_type": "raw",
   "id": "49f58172",
   "metadata": {
    "vscode": {
     "languageId": "raw"
    }
   },
   "source": [
    "---\n",
    "layout: post\n",
    "title: Logic Gates Blog\n",
    "description: A blog for the Logic Gates team\n",
    "permalink: /posts/logic-gates-team-teach/\n",
    "comments: true\n",
    "---"
   ]
  },
  {
   "cell_type": "markdown",
   "id": "9c3ba9e8",
   "metadata": {},
   "source": [
    "## Popcorn Hack 1\n",
    "\n",
    "### Real-World Applications of Logic Gates\n",
    "\n",
    "Logic gates are essential components of modern digital systems. Below are some deeper insights into real-world applications using the listed impacts:\n",
    "\n",
    "1. **Authorization Process (AND Gate)**  \n",
    "   An access system might require both a **keycard AND a PIN** to grant entry. This ensures **multi-factor authentication**—increasing security by requiring two independent credentials. If either the keycard or the PIN is missing, access is denied, reducing the risk of unauthorized entry.\n",
    "\n",
    "2. **Automatic Door Activation (OR Gate)**  \n",
    "   A door could open when **either a motion sensor OR a button** is triggered. This increases accessibility and convenience. For example, people carrying items or using wheelchairs may prefer motion activation, while others might prefer using a manual button.\n",
    "\n",
    "3. **Thermostat System (NOT Gate)**  \n",
    "   In temperature control, a **NOT gate** can invert a condition. When the desired temperature is reached, the NOT gate flips the signal to turn **off** the heating/cooling system, helping with energy efficiency.\n",
    "\n",
    "4. **Self-Driving Cars (NAND & NOR Gates)**  \n",
    "   Cars use logic gates to make safety decisions. For example, based on multiple inputs (like proximity sensors), a **NAND gate** could determine when **not** to apply brakes unless all safety conditions are met. These gates help evaluate complex rules quickly, ensuring **real-time decisions**.\n",
    "\n",
    "5. **Computer Memory Check (XOR Gate)**  \n",
    "   In memory storage, an **XOR gate** checks if two pieces of data are **different**, which is useful in error detection algorithms like **parity checking**. This ensures data integrity during transmission or storage.\n",
    "\n",
    "6. **Pattern Recognition (XNOR Gate)**  \n",
    "   An **XNOR gate** checks if two patterns are **the same**. This is valuable in **image and voice recognition systems** where a stored input must match the real-time input for access or validation.\n",
    "\n",
    "---\n",
    "\n",
    "## Popcorn Hack 2\n",
    "\n",
    "**Question:**  \n",
    "A digital circuit receives three binary inputs: X, Y, and Z. The circuit outputs 1 if and only if **X AND Y are both 1, OR Z is 1**.\n",
    "\n",
    "**Correct Answer:**  \n",
    "**A. (X AND Y) OR Z**\n",
    "\n",
    "**Explanation:**  \n",
    "- The condition describes two cases that result in output 1:\n",
    "  - If both X and Y are 1 (i.e., `X AND Y`)\n",
    "  - Or if Z is 1, regardless of the other inputs  \n",
    "- So the correct logic is `(X AND Y) OR Z`.\n",
    "\n",
    "---\n",
    "\n",
    "## Homework Hack: Authorization System\n",
    "\n",
    "Below is the completed Python function that simulates a secure entry system using an AND gate with **three** required inputs: keycard, pin, and voice authorization."
   ]
  },
  {
   "cell_type": "code",
   "execution_count": 1,
   "id": "70f645a3",
   "metadata": {},
   "outputs": [
    {
     "name": "stdout",
     "output_type": "stream",
     "text": [
      "1\n",
      "0\n",
      "0\n",
      "0\n"
     ]
    }
   ],
   "source": [
    "def secure_entry_system(keycard, pin, voice_auth):\n",
    "    def AND(a, b):\n",
    "        return a & b\n",
    "\n",
    "    return AND(AND(keycard, pin), voice_auth)\n",
    "\n",
    "print(secure_entry_system(1, 1, 1))  # (Access Granted)\n",
    "print(secure_entry_system(1, 1, 0))  # (Access Denied)\n",
    "print(secure_entry_system(0, 1, 1))  # (Access Denied)\n",
    "print(secure_entry_system(1, 0, 1))  # (Access Denied)"
   ]
  }
 ],
 "metadata": {
  "kernelspec": {
   "display_name": "venv",
   "language": "python",
   "name": "python3"
  },
  "language_info": {
   "codemirror_mode": {
    "name": "ipython",
    "version": 3
   },
   "file_extension": ".py",
   "mimetype": "text/x-python",
   "name": "python",
   "nbconvert_exporter": "python",
   "pygments_lexer": "ipython3",
   "version": "3.12.3"
  }
 },
 "nbformat": 4,
 "nbformat_minor": 5
}
