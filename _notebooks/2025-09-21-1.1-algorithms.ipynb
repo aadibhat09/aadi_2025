{
 "cells": [
  {
   "cell_type": "raw",
   "id": "f516b2f3",
   "metadata": {
    "vscode": {
     "languageId": "raw"
    }
   },
   "source": [
    "---\n",
    "layout: post\n",
    "title: Introduction to Algorithms, Programming, and Compilers\n",
    "permalink: /posts/csa/unit_01/1_1\n",
    "comments: true\n",
    "---"
   ]
  },
  {
   "cell_type": "markdown",
   "id": "d2dc9a0f",
   "metadata": {},
   "source": [
    "# Hack 1: Create Your Own Algorithm\n",
    "\n",
    "1. Activity chosen: Setting up a new phone\n",
    "\n",
    "2. Algorithm: Setting up a New Phone\n",
    "\n",
    "3. Unbox the new phone and remove protective covers.\n",
    "\n",
    "4. Press and hold the power button until the screen lights up.\n",
    "\n",
    "5. Choose your preferred language and region.\n",
    "\n",
    "6. Connect to a Wi-Fi network for setup.\n",
    "\n",
    "7. Log in with your Google or Apple account.\n",
    "\n",
    "8. Restore data from a previous backup (if available).\n",
    "\n",
    "9. Set up security options (PIN, fingerprint, or face ID).\n",
    "\n",
    "10. Install essential apps from the app store.\n",
    "\n",
    "11. Customize home screen and settings.\n",
    "\n",
    "12. Test calling, texting, and internet to confirm setup success."
   ]
  },
  {
   "cell_type": "markdown",
   "id": "4b018e03",
   "metadata": {},
   "source": [
    "# Hack 2: Identify the Bug\n",
    "\n",
    "### Original Algorithm: Send an Email\n",
    "\n",
    "1. Click \"Send\"\n",
    "\n",
    "2. Open email application\n",
    "\n",
    "3. Type the message\n",
    "\n",
    "4. Log into your account\n",
    "\n",
    "5. Enter recipient's email address\n",
    "\n",
    "6. Write subject line\n",
    "\n",
    "### Corrected Algorithm: Send an Email\n",
    "\n",
    "1. Open email application\n",
    "\n",
    "2. Log into your account\n",
    "\n",
    "3. Click “Compose” or “New Email”\n",
    "\n",
    "4. Enter recipient’s email address\n",
    "\n",
    "5. Write subject line\n",
    "\n",
    "6. Type the message\n",
    "\n",
    "7. Review the email for mistakes\n",
    "\n",
    "8. Click “Send”"
   ]
  },
  {
   "cell_type": "markdown",
   "id": "964cef32",
   "metadata": {},
   "source": [
    "# Hack 3: Code the Algorithm"
   ]
  },
  {
   "cell_type": "code",
   "execution_count": 1,
   "id": "bc1e9e29",
   "metadata": {},
   "outputs": [
    {
     "name": "stdout",
     "output_type": "stream",
     "text": [
      "Test 1: A\n",
      "Test 2: B\n",
      "Test 3: C\n",
      "Test 4: D\n",
      "Test 5: F\n"
     ]
    }
   ],
   "source": [
    "def calculate_grade(score1, score2, score3):\n",
    "    \"\"\"\n",
    "    Calculate letter grade from three test scores\n",
    "    \n",
    "    Args:\n",
    "        score1, score2, score3: Test scores (integers)\n",
    "    \n",
    "    Returns:\n",
    "        grade: Letter grade (string)\n",
    "    \"\"\"\n",
    "    # Step 1: Add the three scores together\n",
    "    total = score1 + score2 + score3\n",
    "\n",
    "    # Step 2: Calculate the average\n",
    "    average = total / 3\n",
    "\n",
    "    # Step 3: Determine the letter grade using if-elif-else\n",
    "    if average >= 90:\n",
    "        grade = \"A\"\n",
    "    elif average >= 80:\n",
    "        grade = \"B\"\n",
    "    elif average >= 70:\n",
    "        grade = \"C\"\n",
    "    elif average >= 60:\n",
    "        grade = \"D\"\n",
    "    else:\n",
    "        grade = \"F\"\n",
    "    \n",
    "    # Step 4: Return the grade\n",
    "    return grade\n",
    "\n",
    "# Test your function!\n",
    "print(\"Test 1:\", calculate_grade(95, 92, 88))  # Should be 'A'\n",
    "print(\"Test 2:\", calculate_grade(85, 80, 82))  # Should be 'B'\n",
    "print(\"Test 3:\", calculate_grade(75, 70, 72))  # Should be 'C'\n",
    "print(\"Test 4:\", calculate_grade(65, 60, 62))  # Should be 'D'\n",
    "print(\"Test 5:\", calculate_grade(55, 50, 52))  # Should be 'F'"
   ]
  }
 ],
 "metadata": {
  "kernelspec": {
   "display_name": "venv",
   "language": "python",
   "name": "python3"
  },
  "language_info": {
   "codemirror_mode": {
    "name": "ipython",
    "version": 3
   },
   "file_extension": ".py",
   "mimetype": "text/x-python",
   "name": "python",
   "nbconvert_exporter": "python",
   "pygments_lexer": "ipython3",
   "version": "3.12.3"
  }
 },
 "nbformat": 4,
 "nbformat_minor": 5
}
